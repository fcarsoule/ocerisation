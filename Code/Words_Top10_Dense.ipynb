{
 "cells": [
  {
   "cell_type": "markdown",
   "metadata": {},
   "source": [
    "<h1>Top 10 Classification - Modèle Dense</h1>\n",
    "<br>"
   ]
  },
  {
   "cell_type": "code",
   "execution_count": null,
   "metadata": {
    "colab": {
     "base_uri": "https://localhost:8080/"
    },
    "executionInfo": {
     "elapsed": 26583,
     "status": "ok",
     "timestamp": 1663505925275,
     "user": {
      "displayName": "Bolivorax Bolivorax",
      "userId": "09145586294376391882"
     },
     "user_tz": -120
    },
    "id": "3eBexw8V6a8r",
    "outputId": "aa8000cd-4f3d-4438-ef11-948147611ac7"
   },
   "outputs": [],
   "source": [
    "import os\n",
    "from google.colab import drive\n",
    "drive.mount('/content/drive', force_remount=True)"
   ]
  },
  {
   "cell_type": "code",
   "execution_count": null,
   "metadata": {
    "executionInfo": {
     "elapsed": 24178,
     "status": "ok",
     "timestamp": 1663505949448,
     "user": {
      "displayName": "Bolivorax Bolivorax",
      "userId": "09145586294376391882"
     },
     "user_tz": -120
    },
    "id": "6P5a_-pT6jRq"
   },
   "outputs": [],
   "source": [
    "!mkdir database\n",
    "! mkdir database/ascii\n",
    "! tar xzf drive/MyDrive/ocr/database/ascii.tgz -C database/ascii\n",
    "\n",
    "! mkdir database/words\n",
    "! tar xzf drive/MyDrive/ocr/database/words.tgz -C database/words\n",
    "\n",
    "! mkdir database/images_test\n",
    "! cp -r drive/MyDrive/ocr/database/images_test/* database/images_test/\n",
    "\n",
    "! cp drive/MyDrive/ocr/src/streamlit/importation.py importation.py\n",
    "! cp drive/MyDrive/ocr/src/streamlit/preprocessor_2.py preprocessor_2.py\n",
    "! cp drive/MyDrive/ocr/src/streamlit/wsmodel.py wsmodel.py\n",
    "! cp drive/MyDrive/ocr/src/streamlit/top10model.py top10model.py\n",
    "\n",
    "! mkdir models\n",
    "! cp drive/MyDrive/ocr/models/* models/"
   ]
  },
  {
   "cell_type": "code",
   "execution_count": 1,
   "metadata": {
    "executionInfo": {
     "elapsed": 229,
     "status": "ok",
     "timestamp": 1663509019495,
     "user": {
      "displayName": "Bolivorax Bolivorax",
      "userId": "09145586294376391882"
     },
     "user_tz": -120
    },
    "id": "lCpAdPgW6FvS"
   },
   "outputs": [],
   "source": [
    "from  importation import Importation\n",
    "from preprocessor import Preprocess\n",
    "import top10model\n",
    "import tensorflow as tf\n",
    "import matplotlib.pyplot as plt\n",
    "from sklearn.preprocessing import LabelEncoder\n",
    "import pandas as pd\n",
    "import numpy as np\n",
    "import cv2"
   ]
  },
  {
   "cell_type": "code",
   "execution_count": null,
   "metadata": {},
   "outputs": [],
   "source": [
    "#import importlib\n",
    "#import sys\n",
    "#importlib.reload(sys.modules['preprocessor_2']) "
   ]
  },
  {
   "cell_type": "markdown",
   "metadata": {},
   "source": [
    "# Importation des données - preprocessing"
   ]
  },
  {
   "cell_type": "code",
   "execution_count": 2,
   "metadata": {
    "colab": {
     "base_uri": "https://localhost:8080/"
    },
    "executionInfo": {
     "elapsed": 1765,
     "status": "ok",
     "timestamp": 1663506858092,
     "user": {
      "displayName": "Bolivorax Bolivorax",
      "userId": "09145586294376391882"
     },
     "user_tz": -120
    },
    "id": "9eU4TdXSiySh",
    "outputId": "a095494c-33c4-4658-b341-bbd3cb0ea28e"
   },
   "outputs": [
    {
     "name": "stdout",
     "output_type": "stream",
     "text": [
      "Nombre d'enregistrements  96454\n",
      "<class 'pandas.core.frame.DataFrame'>\n",
      "RangeIndex: 96454 entries, 0 to 96453\n",
      "Data columns (total 3 columns):\n",
      " #   Column     Non-Null Count  Dtype  \n",
      "---  ------     --------------  -----  \n",
      " 0   file       96454 non-null  object \n",
      " 1   label      96454 non-null  object \n",
      " 2   word_size  96454 non-null  float32\n",
      "dtypes: float32(1), object(2)\n",
      "memory usage: 1.8+ MB\n",
      "\n",
      "Top 10 mots 3 ou 4 lettres : \n",
      "\n",
      "the     4986\n",
      "and     2110\n",
      "was      970\n",
      "that     968\n",
      "for      718\n",
      "had      670\n",
      "with     645\n",
      "his      597\n",
      "The      548\n",
      "not      412\n",
      "Name: label, dtype: int64\n",
      "initialisation\n"
     ]
    },
    {
     "name": "stderr",
     "output_type": "stream",
     "text": [
      "2022-09-19 10:41:15.951887: I tensorflow/stream_executor/cuda/cuda_gpu_executor.cc:975] successful NUMA node read from SysFS had negative value (-1), but there must be at least one NUMA node, so returning NUMA node zero\n",
      "2022-09-19 10:41:15.987279: I tensorflow/stream_executor/cuda/cuda_gpu_executor.cc:975] successful NUMA node read from SysFS had negative value (-1), but there must be at least one NUMA node, so returning NUMA node zero\n",
      "2022-09-19 10:41:15.987525: I tensorflow/stream_executor/cuda/cuda_gpu_executor.cc:975] successful NUMA node read from SysFS had negative value (-1), but there must be at least one NUMA node, so returning NUMA node zero\n",
      "2022-09-19 10:41:15.988332: I tensorflow/core/platform/cpu_feature_guard.cc:193] This TensorFlow binary is optimized with oneAPI Deep Neural Network Library (oneDNN) to use the following CPU instructions in performance-critical operations:  AVX2 FMA\n",
      "To enable them in other operations, rebuild TensorFlow with the appropriate compiler flags.\n",
      "2022-09-19 10:41:15.988745: I tensorflow/stream_executor/cuda/cuda_gpu_executor.cc:975] successful NUMA node read from SysFS had negative value (-1), but there must be at least one NUMA node, so returning NUMA node zero\n",
      "2022-09-19 10:41:15.988956: I tensorflow/stream_executor/cuda/cuda_gpu_executor.cc:975] successful NUMA node read from SysFS had negative value (-1), but there must be at least one NUMA node, so returning NUMA node zero\n",
      "2022-09-19 10:41:15.989633: I tensorflow/stream_executor/cuda/cuda_gpu_executor.cc:975] successful NUMA node read from SysFS had negative value (-1), but there must be at least one NUMA node, so returning NUMA node zero\n",
      "2022-09-19 10:41:16.435484: I tensorflow/stream_executor/cuda/cuda_gpu_executor.cc:975] successful NUMA node read from SysFS had negative value (-1), but there must be at least one NUMA node, so returning NUMA node zero\n",
      "2022-09-19 10:41:16.435705: I tensorflow/stream_executor/cuda/cuda_gpu_executor.cc:975] successful NUMA node read from SysFS had negative value (-1), but there must be at least one NUMA node, so returning NUMA node zero\n",
      "2022-09-19 10:41:16.435901: I tensorflow/stream_executor/cuda/cuda_gpu_executor.cc:975] successful NUMA node read from SysFS had negative value (-1), but there must be at least one NUMA node, so returning NUMA node zero\n",
      "2022-09-19 10:41:16.436040: I tensorflow/core/common_runtime/gpu/gpu_device.cc:1532] Created device /job:localhost/replica:0/task:0/device:GPU:0 with 4349 MB memory:  -> device: 0, name: NVIDIA GeForce RTX 2060, pci bus id: 0000:29:00.0, compute capability: 7.5\n"
     ]
    }
   ],
   "source": [
    "imp = Importation('database')\n",
    "df = imp.get_words().sample(frac=1, random_state=1).reset_index()\n",
    "\n",
    "df.word_size = df.word_size.astype('float32')\n",
    "print(\"Nombre d'enregistrements \", df.shape[0])\n",
    "\n",
    "\n",
    "df = df[['file','label', 'word_size']]\n",
    "df.info()\n",
    "words_list = df[(df.word_size==3)|(df.word_size==4)].label.value_counts().head(10)\n",
    "print(\"\\nTop 10 mots 3 ou 4 lettres : \\n\")\n",
    "print(words_list)\n",
    "\n",
    "df = df[df.label.isin(words_list.index)]\n",
    "encoder = LabelEncoder()\n",
    "df[\"label_encoded\"] = encoder.fit_transform(df.label)\n",
    "\n",
    "df.head(20)\n",
    "\n",
    "image_width = 128\n",
    "image_height = 32\n",
    "batch_size = 64\n",
    "img_size = (image_width, image_height)\n",
    "prepro = Preprocess(img_size, batch_size=batch_size, gaussianBlur=True)\n",
    "\n",
    "df_train, df_valid, df_test = prepro.split_data(df, train_size=0.9)\n",
    "\n",
    "x_train, y_train = df_train[\"file\"].values, df_train[\"label_encoded\"].values\n",
    "x_test, y_test = df_test[\"file\"].values, df_test[\"label_encoded\"].values\n",
    "x_valid, y_valid = df_valid[\"file\"].values, df_valid[\"label_encoded\"].values\n",
    "\n",
    "train_ds = prepro.prepare_dataset_top10(x_train, y_train)\n",
    "validation_ds = prepro.prepare_dataset_top10(x_valid, y_valid)\n",
    "test_ds = prepro.prepare_dataset_top10(x_test, y_test)\n",
    "\n"
   ]
  },
  {
   "cell_type": "markdown",
   "metadata": {},
   "source": [
    "# Chargement du modèle"
   ]
  },
  {
   "cell_type": "code",
   "execution_count": 3,
   "metadata": {
    "colab": {
     "base_uri": "https://localhost:8080/"
    },
    "executionInfo": {
     "elapsed": 255,
     "status": "ok",
     "timestamp": 1663509031853,
     "user": {
      "displayName": "Bolivorax Bolivorax",
      "userId": "09145586294376391882"
     },
     "user_tz": -120
    },
    "id": "q6CK6bdBi1aQ",
    "outputId": "5734c6f4-5b9c-4021-de95-5f62e7bf3cf4"
   },
   "outputs": [
    {
     "name": "stdout",
     "output_type": "stream",
     "text": [
      "Model: \"Dense_model\"\n",
      "_________________________________________________________________\n",
      " Layer (type)                Output Shape              Param #   \n",
      "=================================================================\n",
      " image (InputLayer)          [(None, 128, 32, 1)]      0         \n",
      "                                                                 \n",
      " flatten (Flatten)           (None, 4096)              0         \n",
      "                                                                 \n",
      " dense (Dense)               (None, 512)               2097664   \n",
      "                                                                 \n",
      " dense_1 (Dense)             (None, 256)               131328    \n",
      "                                                                 \n",
      " dense_2 (Dense)             (None, 10)                2570      \n",
      "                                                                 \n",
      "=================================================================\n",
      "Total params: 2,231,562\n",
      "Trainable params: 2,231,562\n",
      "Non-trainable params: 0\n",
      "_________________________________________________________________\n"
     ]
    }
   ],
   "source": [
    "#import importlib\n",
    "#import sys\n",
    "#importlib.reload(sys.modules['wsmodel']) \n",
    "image_width = 128\n",
    "image_height = 32\n",
    "num_classes = 10\n",
    "train = False\n",
    "#model = top10model.create_model_lenet(image_width, image_height, num_classes)\n",
    "#model = top10model.create_model_cnn(image_width, image_height, num_classes)\n",
    "model = top10model.create_model_dense(image_width, image_height, num_classes)\n",
    "if train:\n",
    "    opt = tf.keras.optimizers.Adam()\n",
    "    model.compile(optimizer=opt, loss='sparse_categorical_crossentropy',\n",
    "                  metrics=['accuracy'])\n",
    "model.summary()"
   ]
  },
  {
   "cell_type": "markdown",
   "metadata": {},
   "source": [
    "# Entraînement du modèle "
   ]
  },
  {
   "cell_type": "code",
   "execution_count": 4,
   "metadata": {
    "colab": {
     "base_uri": "https://localhost:8080/",
     "height": 415
    },
    "executionInfo": {
     "elapsed": 55378,
     "status": "error",
     "timestamp": 1663509105781,
     "user": {
      "displayName": "Bolivorax Bolivorax",
      "userId": "09145586294376391882"
     },
     "user_tz": -120
    },
    "id": "B2HNzPlNjO3Q",
    "outputId": "db8146b1-4dcc-40bc-b357-735c875d6133"
   },
   "outputs": [
    {
     "name": "stdout",
     "output_type": "stream",
     "text": [
      "Epoch 1/50\n",
      "178/178 [==============================] - 37s 203ms/step - loss: 1.5123 - accuracy: 0.5216 - val_loss: 1.1176 - val_accuracy: 0.6149\n",
      "Epoch 2/50\n",
      "178/178 [==============================] - 0s 2ms/step - loss: 0.9685 - accuracy: 0.6790 - val_loss: 0.9094 - val_accuracy: 0.7163\n",
      "Epoch 3/50\n",
      "178/178 [==============================] - 0s 2ms/step - loss: 0.7956 - accuracy: 0.7373 - val_loss: 0.7917 - val_accuracy: 0.7655\n",
      "Epoch 4/50\n",
      "178/178 [==============================] - 0s 2ms/step - loss: 0.6910 - accuracy: 0.7727 - val_loss: 0.7489 - val_accuracy: 0.7670\n",
      "Epoch 5/50\n",
      "178/178 [==============================] - 0s 2ms/step - loss: 0.6298 - accuracy: 0.7900 - val_loss: 0.6691 - val_accuracy: 0.7861\n",
      "Epoch 6/50\n",
      "178/178 [==============================] - 0s 2ms/step - loss: 0.5968 - accuracy: 0.8016 - val_loss: 0.6501 - val_accuracy: 0.8019\n",
      "Epoch 7/50\n",
      "178/178 [==============================] - 0s 2ms/step - loss: 0.5651 - accuracy: 0.8127 - val_loss: 0.6165 - val_accuracy: 0.8209\n",
      "Epoch 8/50\n",
      "178/178 [==============================] - 0s 2ms/step - loss: 0.5345 - accuracy: 0.8237 - val_loss: 0.5762 - val_accuracy: 0.8320\n",
      "Epoch 9/50\n",
      "178/178 [==============================] - 0s 2ms/step - loss: 0.5132 - accuracy: 0.8321 - val_loss: 0.5753 - val_accuracy: 0.8304\n",
      "Epoch 10/50\n",
      "178/178 [==============================] - 0s 2ms/step - loss: 0.4919 - accuracy: 0.8387 - val_loss: 0.5799 - val_accuracy: 0.8257\n",
      "Epoch 11/50\n",
      "178/178 [==============================] - 0s 2ms/step - loss: 0.4614 - accuracy: 0.8485 - val_loss: 0.5863 - val_accuracy: 0.8304\n",
      "Epoch 12/50\n",
      "178/178 [==============================] - 0s 2ms/step - loss: 0.4491 - accuracy: 0.8511 - val_loss: 0.5983 - val_accuracy: 0.8257\n",
      "Epoch 13/50\n",
      "178/178 [==============================] - 0s 2ms/step - loss: 0.4376 - accuracy: 0.8551 - val_loss: 0.5774 - val_accuracy: 0.8288\n",
      "Epoch 14/50\n",
      "178/178 [==============================] - 0s 2ms/step - loss: 0.4236 - accuracy: 0.8605 - val_loss: 0.6076 - val_accuracy: 0.8130\n",
      "Epoch 15/50\n",
      "178/178 [==============================] - 0s 2ms/step - loss: 0.3990 - accuracy: 0.8676 - val_loss: 0.6026 - val_accuracy: 0.8067\n",
      "Epoch 16/50\n",
      "178/178 [==============================] - 0s 2ms/step - loss: 0.3894 - accuracy: 0.8701 - val_loss: 0.6238 - val_accuracy: 0.8114\n",
      "Epoch 17/50\n",
      "178/178 [==============================] - 0s 2ms/step - loss: 0.3749 - accuracy: 0.8710 - val_loss: 0.6478 - val_accuracy: 0.8035\n",
      "Epoch 18/50\n",
      "178/178 [==============================] - 0s 2ms/step - loss: 0.3709 - accuracy: 0.8733 - val_loss: 0.6417 - val_accuracy: 0.8209\n",
      "Epoch 19/50\n",
      "178/178 [==============================] - 0s 2ms/step - loss: 0.3547 - accuracy: 0.8783 - val_loss: 0.6754 - val_accuracy: 0.8130\n",
      "Epoch 20/50\n",
      "178/178 [==============================] - 0s 2ms/step - loss: 0.3353 - accuracy: 0.8876 - val_loss: 0.6659 - val_accuracy: 0.8336\n",
      "Epoch 21/50\n",
      "178/178 [==============================] - 0s 2ms/step - loss: 0.3211 - accuracy: 0.8917 - val_loss: 0.6977 - val_accuracy: 0.8114\n",
      "Epoch 22/50\n",
      "178/178 [==============================] - 0s 2ms/step - loss: 0.3180 - accuracy: 0.8940 - val_loss: 0.6381 - val_accuracy: 0.8415\n",
      "Epoch 23/50\n",
      "178/178 [==============================] - 0s 2ms/step - loss: 0.2978 - accuracy: 0.8989 - val_loss: 0.6426 - val_accuracy: 0.8320\n",
      "Epoch 24/50\n",
      "178/178 [==============================] - 0s 2ms/step - loss: 0.2930 - accuracy: 0.9007 - val_loss: 0.6129 - val_accuracy: 0.8288\n",
      "Epoch 25/50\n",
      "178/178 [==============================] - 0s 2ms/step - loss: 0.2850 - accuracy: 0.9018 - val_loss: 0.6204 - val_accuracy: 0.8304\n",
      "Epoch 26/50\n",
      "178/178 [==============================] - 0s 2ms/step - loss: 0.2642 - accuracy: 0.9109 - val_loss: 0.7367 - val_accuracy: 0.7924\n",
      "Epoch 27/50\n",
      "178/178 [==============================] - 0s 2ms/step - loss: 0.2665 - accuracy: 0.9095 - val_loss: 0.6456 - val_accuracy: 0.8368\n",
      "Epoch 28/50\n",
      "178/178 [==============================] - 0s 2ms/step - loss: 0.2590 - accuracy: 0.9114 - val_loss: 0.6696 - val_accuracy: 0.8384\n",
      "Epoch 29/50\n",
      "178/178 [==============================] - 0s 2ms/step - loss: 0.2592 - accuracy: 0.9107 - val_loss: 0.6679 - val_accuracy: 0.8368\n",
      "Epoch 30/50\n",
      "178/178 [==============================] - 0s 2ms/step - loss: 0.2747 - accuracy: 0.9035 - val_loss: 0.7685 - val_accuracy: 0.8241\n",
      "Epoch 31/50\n",
      "178/178 [==============================] - 0s 2ms/step - loss: 0.2534 - accuracy: 0.9128 - val_loss: 0.7255 - val_accuracy: 0.8193\n",
      "Epoch 32/50\n",
      "178/178 [==============================] - 0s 2ms/step - loss: 0.2590 - accuracy: 0.9072 - val_loss: 0.6601 - val_accuracy: 0.8526\n",
      "Epoch 33/50\n",
      "178/178 [==============================] - 0s 2ms/step - loss: 0.2477 - accuracy: 0.9143 - val_loss: 0.6881 - val_accuracy: 0.8257\n",
      "Epoch 34/50\n",
      "178/178 [==============================] - 0s 2ms/step - loss: 0.2278 - accuracy: 0.9195 - val_loss: 0.6791 - val_accuracy: 0.8336\n",
      "Epoch 35/50\n",
      "178/178 [==============================] - 0s 2ms/step - loss: 0.2318 - accuracy: 0.9188 - val_loss: 0.7088 - val_accuracy: 0.8225\n",
      "Epoch 36/50\n",
      "178/178 [==============================] - 0s 2ms/step - loss: 0.2171 - accuracy: 0.9225 - val_loss: 0.6697 - val_accuracy: 0.8494\n",
      "Epoch 37/50\n",
      "178/178 [==============================] - 0s 2ms/step - loss: 0.2139 - accuracy: 0.9269 - val_loss: 0.7467 - val_accuracy: 0.8336\n",
      "Epoch 38/50\n",
      "178/178 [==============================] - 0s 2ms/step - loss: 0.2128 - accuracy: 0.9250 - val_loss: 0.7043 - val_accuracy: 0.8399\n",
      "Epoch 39/50\n",
      "178/178 [==============================] - 0s 2ms/step - loss: 0.2059 - accuracy: 0.9253 - val_loss: 0.8543 - val_accuracy: 0.8082\n",
      "Epoch 40/50\n",
      "178/178 [==============================] - 0s 2ms/step - loss: 0.1981 - accuracy: 0.9263 - val_loss: 0.7173 - val_accuracy: 0.8494\n",
      "Epoch 41/50\n",
      "178/178 [==============================] - 0s 2ms/step - loss: 0.1867 - accuracy: 0.9336 - val_loss: 0.7212 - val_accuracy: 0.8336\n",
      "Epoch 42/50\n",
      "178/178 [==============================] - 0s 2ms/step - loss: 0.2052 - accuracy: 0.9254 - val_loss: 0.7544 - val_accuracy: 0.8241\n",
      "Epoch 43/50\n",
      "178/178 [==============================] - 0s 2ms/step - loss: 0.1913 - accuracy: 0.9334 - val_loss: 0.6943 - val_accuracy: 0.8384\n",
      "Epoch 44/50\n",
      "178/178 [==============================] - 0s 2ms/step - loss: 0.1767 - accuracy: 0.9364 - val_loss: 0.8378 - val_accuracy: 0.8415\n",
      "Epoch 45/50\n",
      "178/178 [==============================] - 0s 2ms/step - loss: 0.1748 - accuracy: 0.9357 - val_loss: 0.7215 - val_accuracy: 0.8463\n",
      "Epoch 46/50\n",
      "178/178 [==============================] - 0s 2ms/step - loss: 0.1888 - accuracy: 0.9312 - val_loss: 0.7966 - val_accuracy: 0.8384\n",
      "Epoch 47/50\n",
      "178/178 [==============================] - 0s 2ms/step - loss: 0.1677 - accuracy: 0.9401 - val_loss: 0.9061 - val_accuracy: 0.8162\n",
      "Epoch 48/50\n",
      "178/178 [==============================] - 0s 2ms/step - loss: 0.1619 - accuracy: 0.9434 - val_loss: 0.7917 - val_accuracy: 0.8384\n",
      "Epoch 49/50\n",
      "178/178 [==============================] - 0s 2ms/step - loss: 0.1614 - accuracy: 0.9431 - val_loss: 0.8232 - val_accuracy: 0.8336\n",
      "Epoch 50/50\n",
      "178/178 [==============================] - 0s 2ms/step - loss: 0.1747 - accuracy: 0.9353 - val_loss: 0.7951 - val_accuracy: 0.8384\n"
     ]
    },
    {
     "data": {
      "image/png": "[encoded data removed]",
      "text/plain": [
       "<Figure size 864x288 with 2 Axes>"
      ]
     },
     "metadata": {
      "needs_background": "light"
     },
     "output_type": "display_data"
    }
   ],
   "source": [
    "if train:\n",
    "    epochs = 50\n",
    "    training_history = model.fit(\n",
    "        train_ds,\n",
    "        validation_data=validation_ds,\n",
    "        epochs=epochs,\n",
    "        verbose=1\n",
    "    )\n",
    "\n",
    "    train_loss = training_history.history[\"loss\"]\n",
    "    val_loss = training_history.history[\"val_loss\"]\n",
    "    train_acc = training_history.history[\"accuracy\"]\n",
    "    val_acc = training_history.history[\"val_accuracy\"]\n",
    "    plt.figure(figsize=(12, 4))\n",
    "    plt.subplot(121)\n",
    "    plt.plot(train_loss)\n",
    "    plt.plot(val_loss)\n",
    "    plt.title('Model loss per epoch')\n",
    "    plt.ylabel('loss')\n",
    "    plt.xlabel('epoch')\n",
    "    plt.legend(['train', 'test'], loc='right')\n",
    "\n",
    "    plt.subplot(122)\n",
    "    plt.plot(train_acc)\n",
    "    plt.plot(val_acc)\n",
    "    plt.title('Model accuracy per epoch')\n",
    "    plt.ylabel('acc')\n",
    "    plt.xlabel('epoch')\n",
    "    plt.legend(['train', 'test'], loc='right')\n",
    "    model.save_weights(\"models/top10_dense.h1\")\n",
    "else: \n",
    "    model.load_weights(\"models/top10_dense.h1\")"
   ]
  },
  {
   "cell_type": "markdown",
   "metadata": {},
   "source": [
    "# Prédictions"
   ]
  },
  {
   "cell_type": "code",
   "execution_count": 6,
   "metadata": {
    "colab": {
     "base_uri": "https://localhost:8080/",
     "height": 685
    },
    "executionInfo": {
     "elapsed": 1059,
     "status": "ok",
     "timestamp": 1663508101452,
     "user": {
      "displayName": "Bolivorax Bolivorax",
      "userId": "09145586294376391882"
     },
     "user_tz": -120
    },
    "id": "MbVW23GaKh_w",
    "outputId": "e0ca4288-e818-4f13-a7c4-41d7fb4881f5"
   },
   "outputs": [
    {
     "data": {
      "image/png": "[encoded data removed]",
      "text/plain": [
       "<Figure size 720x216 with 1 Axes>"
      ]
     },
     "metadata": {},
     "output_type": "display_data"
    },
    {
     "name": "stdout",
     "output_type": "stream",
     "text": [
      "Label     : and\n",
      "Prédiction:  and\n"
     ]
    },
    {
     "data": {
      "image/png": "[encoded data removed]",
      "text/plain": [
       "<Figure size 720x216 with 1 Axes>"
      ]
     },
     "metadata": {},
     "output_type": "display_data"
    },
    {
     "name": "stdout",
     "output_type": "stream",
     "text": [
      "Label     : the\n",
      "Prédiction:  the\n"
     ]
    },
    {
     "data": {
      "image/png": "[encoded data removed]",
      "text/plain": [
       "<Figure size 720x216 with 1 Axes>"
      ]
     },
     "metadata": {},
     "output_type": "display_data"
    },
    {
     "name": "stdout",
     "output_type": "stream",
     "text": [
      "Label     : that\n",
      "Prédiction:  that\n"
     ]
    }
   ],
   "source": [
    "\n",
    "# Création d'un dataset pour une image unique\n",
    "def get_ds(img_path, encoded_label):\n",
    "    x = np.array([img_path])\n",
    "    y = np.array([encoded_label])\n",
    "    ds = prepro.prepare_dataset_top10(x, y)\n",
    "    return ds\n",
    "\n",
    "def get_prediction(ds):\n",
    "    inputs = []\n",
    "    outputs = []\n",
    "    for batch in ds:\n",
    "        label_encode = batch[1] \n",
    "        #batch_images = tf.transpose(batch[0], [0,2,1,3])\n",
    "        batch_images = batch[0]\n",
    "        preds = model.predict(batch_images, verbose=0)\n",
    "        #print(np.argmax(preds.tolist()[0]), label_encode)\n",
    "        outputs += [np.argmax(v) for v in preds.tolist()]\n",
    "        inputs += label_encode.numpy().tolist()\n",
    "        #output += preds.tolist()\n",
    "    return outputs, inputs\n",
    "\n",
    "\n",
    "files = []\n",
    "labels = []\n",
    "predictions = []\n",
    "distances = []\n",
    "df_predict = df_test\n",
    "for i in np.random.choice(np.arange(0, len(df_predict)), size=3):  \n",
    "  label = df_predict.iloc[i].label\n",
    "  encoded_label = df_predict.iloc[i].label_encoded\n",
    "  img_path = df_predict.iloc[i].file\n",
    "  ds = get_ds(img_path, encoded_label)\n",
    "  prediction, inputs= get_prediction(ds)\n",
    "\n",
    "  image = cv2.imread(img_path)\n",
    "  plt.figure(figsize=(10,3))\n",
    "  plt.imshow(image, cmap='gray')\n",
    "  plt.xticks([])\n",
    "  plt.yticks([])\n",
    "  plt.show()\n",
    "  print(f\"Label     : {label}\")\n",
    "  #print(\"encoded label: \", encoded_label)\n",
    "  #print(\"Input: \", inputs)\n",
    "  print(\"Prédiction: \",encoder.inverse_transform(prediction)[0])\n"
   ]
  },
  {
   "cell_type": "markdown",
   "metadata": {},
   "source": [
    "## Prédiction sur l'ensemble de test"
   ]
  },
  {
   "cell_type": "code",
   "execution_count": 7,
   "metadata": {},
   "outputs": [
    {
     "name": "stdout",
     "output_type": "stream",
     "text": [
      "Accuracy sur l'ensemble de test : 0.8607594936708861\n"
     ]
    },
    {
     "data": {
      "text/html": [
       "<div>\n",
       "<style scoped>\n",
       "    .dataframe tbody tr th:only-of-type {\n",
       "        vertical-align: middle;\n",
       "    }\n",
       "\n",
       "    .dataframe tbody tr th {\n",
       "        vertical-align: top;\n",
       "    }\n",
       "\n",
       "    .dataframe thead th {\n",
       "        text-align: right;\n",
       "    }\n",
       "</style>\n",
       "<table border=\"1\" class=\"dataframe\">\n",
       "  <thead>\n",
       "    <tr style=\"text-align: right;\">\n",
       "      <th></th>\n",
       "      <th>label</th>\n",
       "      <th>label_encoded</th>\n",
       "      <th>prediction</th>\n",
       "      <th>label_decoded</th>\n",
       "    </tr>\n",
       "  </thead>\n",
       "  <tbody>\n",
       "    <tr>\n",
       "      <th>91930</th>\n",
       "      <td>the</td>\n",
       "      <td>7</td>\n",
       "      <td>7</td>\n",
       "      <td>the</td>\n",
       "    </tr>\n",
       "    <tr>\n",
       "      <th>91940</th>\n",
       "      <td>not</td>\n",
       "      <td>5</td>\n",
       "      <td>1</td>\n",
       "      <td>and</td>\n",
       "    </tr>\n",
       "    <tr>\n",
       "      <th>91942</th>\n",
       "      <td>the</td>\n",
       "      <td>7</td>\n",
       "      <td>7</td>\n",
       "      <td>the</td>\n",
       "    </tr>\n",
       "    <tr>\n",
       "      <th>91946</th>\n",
       "      <td>the</td>\n",
       "      <td>7</td>\n",
       "      <td>7</td>\n",
       "      <td>the</td>\n",
       "    </tr>\n",
       "    <tr>\n",
       "      <th>91949</th>\n",
       "      <td>for</td>\n",
       "      <td>2</td>\n",
       "      <td>2</td>\n",
       "      <td>for</td>\n",
       "    </tr>\n",
       "    <tr>\n",
       "      <th>91961</th>\n",
       "      <td>was</td>\n",
       "      <td>8</td>\n",
       "      <td>8</td>\n",
       "      <td>was</td>\n",
       "    </tr>\n",
       "    <tr>\n",
       "      <th>91974</th>\n",
       "      <td>for</td>\n",
       "      <td>2</td>\n",
       "      <td>2</td>\n",
       "      <td>for</td>\n",
       "    </tr>\n",
       "    <tr>\n",
       "      <th>91976</th>\n",
       "      <td>the</td>\n",
       "      <td>7</td>\n",
       "      <td>7</td>\n",
       "      <td>the</td>\n",
       "    </tr>\n",
       "    <tr>\n",
       "      <th>91983</th>\n",
       "      <td>the</td>\n",
       "      <td>7</td>\n",
       "      <td>7</td>\n",
       "      <td>the</td>\n",
       "    </tr>\n",
       "    <tr>\n",
       "      <th>91987</th>\n",
       "      <td>was</td>\n",
       "      <td>8</td>\n",
       "      <td>8</td>\n",
       "      <td>was</td>\n",
       "    </tr>\n",
       "    <tr>\n",
       "      <th>91997</th>\n",
       "      <td>and</td>\n",
       "      <td>1</td>\n",
       "      <td>1</td>\n",
       "      <td>and</td>\n",
       "    </tr>\n",
       "    <tr>\n",
       "      <th>92001</th>\n",
       "      <td>the</td>\n",
       "      <td>7</td>\n",
       "      <td>7</td>\n",
       "      <td>the</td>\n",
       "    </tr>\n",
       "    <tr>\n",
       "      <th>92002</th>\n",
       "      <td>had</td>\n",
       "      <td>3</td>\n",
       "      <td>3</td>\n",
       "      <td>had</td>\n",
       "    </tr>\n",
       "    <tr>\n",
       "      <th>92018</th>\n",
       "      <td>and</td>\n",
       "      <td>1</td>\n",
       "      <td>1</td>\n",
       "      <td>and</td>\n",
       "    </tr>\n",
       "    <tr>\n",
       "      <th>92024</th>\n",
       "      <td>not</td>\n",
       "      <td>5</td>\n",
       "      <td>3</td>\n",
       "      <td>had</td>\n",
       "    </tr>\n",
       "    <tr>\n",
       "      <th>92031</th>\n",
       "      <td>the</td>\n",
       "      <td>7</td>\n",
       "      <td>2</td>\n",
       "      <td>for</td>\n",
       "    </tr>\n",
       "    <tr>\n",
       "      <th>92034</th>\n",
       "      <td>that</td>\n",
       "      <td>6</td>\n",
       "      <td>6</td>\n",
       "      <td>that</td>\n",
       "    </tr>\n",
       "    <tr>\n",
       "      <th>92040</th>\n",
       "      <td>not</td>\n",
       "      <td>5</td>\n",
       "      <td>1</td>\n",
       "      <td>and</td>\n",
       "    </tr>\n",
       "    <tr>\n",
       "      <th>92042</th>\n",
       "      <td>the</td>\n",
       "      <td>7</td>\n",
       "      <td>7</td>\n",
       "      <td>the</td>\n",
       "    </tr>\n",
       "    <tr>\n",
       "      <th>92056</th>\n",
       "      <td>the</td>\n",
       "      <td>7</td>\n",
       "      <td>2</td>\n",
       "      <td>for</td>\n",
       "    </tr>\n",
       "  </tbody>\n",
       "</table>\n",
       "</div>"
      ],
      "text/plain": [
       "      label  label_encoded  prediction label_decoded\n",
       "91930   the              7           7           the\n",
       "91940   not              5           1           and\n",
       "91942   the              7           7           the\n",
       "91946   the              7           7           the\n",
       "91949   for              2           2           for\n",
       "91961   was              8           8           was\n",
       "91974   for              2           2           for\n",
       "91976   the              7           7           the\n",
       "91983   the              7           7           the\n",
       "91987   was              8           8           was\n",
       "91997   and              1           1           and\n",
       "92001   the              7           7           the\n",
       "92002   had              3           3           had\n",
       "92018   and              1           1           and\n",
       "92024   not              5           3           had\n",
       "92031   the              7           2           for\n",
       "92034  that              6           6          that\n",
       "92040   not              5           1           and\n",
       "92042   the              7           7           the\n",
       "92056   the              7           2           for"
      ]
     },
     "execution_count": 7,
     "metadata": {},
     "output_type": "execute_result"
    }
   ],
   "source": [
    "ds = test_ds\n",
    "outputs,inputs = get_prediction(ds)\n",
    "\n",
    "        \n",
    "df_result = pd.DataFrame({'file' : df_test.file,\n",
    "                          'label': df_test.label,\n",
    "                          'label_encoded' : df_test.label_encoded,\n",
    "                          'prediction' : outputs,\n",
    "                         })\n",
    "\n",
    "df_result['label_decoded'] = encoder.inverse_transform(df_result['prediction'])\n",
    "acc_test = df_result[df_result['label_encoded']==df_result[\"prediction\"]].shape[0]/df_result.shape[0]\n",
    "print(\"Accuracy sur l'ensemble de test :\", acc_test)\n",
    "\n",
    "df_result.drop(\"file\", axis=1).head(20)"
   ]
  },
  {
   "cell_type": "markdown",
   "metadata": {},
   "source": [
    "## Metrics"
   ]
  },
  {
   "cell_type": "code",
   "execution_count": 8,
   "metadata": {},
   "outputs": [
    {
     "name": "stdout",
     "output_type": "stream",
     "text": [
      "Accuracy :  0.86\n",
      "Classification report :\n",
      "               precision    recall  f1-score   support\n",
      "\n",
      "         The       0.92      0.77      0.84        30\n",
      "         and       0.92      0.88      0.90       104\n",
      "         for       0.70      0.93      0.80        28\n",
      "         had       0.77      0.77      0.77        31\n",
      "         his       0.94      0.49      0.64        35\n",
      "         not       0.85      0.50      0.63        22\n",
      "        that       0.87      0.76      0.81        51\n",
      "         the       0.87      0.96      0.91       270\n",
      "         was       0.83      0.85      0.84        41\n",
      "        with       0.82      0.90      0.86        20\n",
      "\n",
      "    accuracy                           0.86       632\n",
      "   macro avg       0.85      0.78      0.80       632\n",
      "weighted avg       0.87      0.86      0.86       632\n",
      "\n"
     ]
    },
    {
     "data": {
      "image/png": "[encoded data removed]",
      "text/plain": [
       "<Figure size 720x720 with 2 Axes>"
      ]
     },
     "metadata": {
      "needs_background": "light"
     },
     "output_type": "display_data"
    }
   ],
   "source": [
    "from sklearn.metrics import confusion_matrix, accuracy_score, classification_report\n",
    "import itertools\n",
    "\n",
    "true_labels = df_result.label\n",
    "pred_labels = df_result.label_decoded\n",
    "\n",
    "\n",
    "print(\"Accuracy : \", round(accuracy_score(true_labels, pred_labels),2))\n",
    "print(\"Classification report :\\n\", classification_report(true_labels, pred_labels))\n",
    "\n",
    "cnf_matrix = confusion_matrix(true_labels, pred_labels)\n",
    "\n",
    "plt.figure(figsize=(10,10))\n",
    "num_classes = 10\n",
    "plt.imshow(cnf_matrix, interpolation='nearest',cmap='Blues')\n",
    "plt.title(\"Matrice de confusion\")\n",
    "plt.colorbar()\n",
    "tick_marks = np.arange(num_classes)\n",
    "classes = encoder.inverse_transform(tick_marks)\n",
    "plt.xticks(tick_marks, classes)\n",
    "plt.yticks(tick_marks, classes)\n",
    "\n",
    "for i, j in itertools.product(range(cnf_matrix.shape[0]), range(cnf_matrix.shape[1])):\n",
    "    plt.text(j, i, cnf_matrix[i, j],\n",
    "             horizontalalignment = \"center\",\n",
    "             color = \"white\" if cnf_matrix[i, j] > ( cnf_matrix.max() / 2) else \"black\")\n",
    "\n",
    "plt.ylabel('Vrais labels')\n",
    "plt.xlabel('Labels prédits')\n",
    "plt.show()\n",
    "\n",
    "for i, j in itertools.product(range(cnf_matrix.shape[0]), range(cnf_matrix.shape[1])):\n",
    "    if(cnf_matrix[i,j] >15 and i!=j):\n",
    "        print(\"Le mot '{0}' a souvent été pris pour le mot '{1}'\".format(classes[i],classes[j]))"
   ]
  },
  {
   "cell_type": "code",
   "execution_count": null,
   "metadata": {},
   "outputs": [],
   "source": []
  }
 ],
 "metadata": {
  "accelerator": "GPU",
  "colab": {
   "authorship_tag": "ABX9TyNPxsC9rv0gF8I8OzEthTXH",
   "provenance": []
  },
  "kernelspec": {
   "display_name": "Python 3 (ipykernel)",
   "language": "python",
   "name": "python3"
  },
  "language_info": {
   "codemirror_mode": {
    "name": "ipython",
    "version": 3
   },
   "file_extension": ".py",
   "mimetype": "text/x-python",
   "name": "python",
   "nbconvert_exporter": "python",
   "pygments_lexer": "ipython3",
   "version": "3.8.13"
  }
 },
 "nbformat": 4,
 "nbformat_minor": 1
}
