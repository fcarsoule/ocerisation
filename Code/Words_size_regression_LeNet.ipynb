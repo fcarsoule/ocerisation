{
 "cells": [
  {
   "cell_type": "markdown",
   "metadata": {},
   "source": [
    "<h1>Words Size Regression - Modèle LeNet</h1>\n",
    "<br>"
   ]
  },
  {
   "cell_type": "code",
   "execution_count": null,
   "metadata": {
    "colab": {
     "base_uri": "https://localhost:8080/"
    },
    "executionInfo": {
     "elapsed": 26583,
     "status": "ok",
     "timestamp": 1663505925275,
     "user": {
      "displayName": "Bolivorax Bolivorax",
      "userId": "09145586294376391882"
     },
     "user_tz": -120
    },
    "id": "3eBexw8V6a8r",
    "outputId": "aa8000cd-4f3d-4438-ef11-948147611ac7"
   },
   "outputs": [],
   "source": [
    "import os\n",
    "from google.colab import drive\n",
    "drive.mount('/content/drive', force_remount=True)"
   ]
  },
  {
   "cell_type": "code",
   "execution_count": null,
   "metadata": {
    "executionInfo": {
     "elapsed": 24178,
     "status": "ok",
     "timestamp": 1663505949448,
     "user": {
      "displayName": "Bolivorax Bolivorax",
      "userId": "09145586294376391882"
     },
     "user_tz": -120
    },
    "id": "6P5a_-pT6jRq"
   },
   "outputs": [],
   "source": [
    "!mkdir database\n",
    "! mkdir database/ascii\n",
    "! tar xzf drive/MyDrive/ocr/database/ascii.tgz -C database/ascii\n",
    "\n",
    "! mkdir database/words\n",
    "! tar xzf drive/MyDrive/ocr/database/words.tgz -C database/words\n",
    "\n",
    "! mkdir database/images_test\n",
    "! cp -r drive/MyDrive/ocr/database/images_test/* database/images_test/\n",
    "\n",
    "! cp drive/MyDrive/ocr/src/streamlit/importation.py importation.py\n",
    "! cp drive/MyDrive/ocr/src/streamlit/preprocessor_2.py preprocessor_2.py\n",
    "! cp drive/MyDrive/ocr/src/streamlit/wsmodel.py wsmodel.py\n",
    "\n",
    "! mkdir models\n",
    "! cp drive/MyDrive/ocr/models/* models/"
   ]
  },
  {
   "cell_type": "code",
   "execution_count": 1,
   "metadata": {
    "executionInfo": {
     "elapsed": 229,
     "status": "ok",
     "timestamp": 1663509019495,
     "user": {
      "displayName": "Bolivorax Bolivorax",
      "userId": "09145586294376391882"
     },
     "user_tz": -120
    },
    "id": "lCpAdPgW6FvS"
   },
   "outputs": [],
   "source": [
    "from importation import Importation\n",
    "\n",
    "from preprocessor import Preprocess\n",
    "import wsmodel\n",
    "import tensorflow as tf\n",
    "import matplotlib.pyplot as plt\n",
    "import pandas as pd\n",
    "import numpy as np\n",
    "import cv2"
   ]
  },
  {
   "cell_type": "markdown",
   "metadata": {},
   "source": [
    "# Importation des données - preprocessing"
   ]
  },
  {
   "cell_type": "code",
   "execution_count": 14,
   "metadata": {
    "colab": {
     "base_uri": "https://localhost:8080/"
    },
    "executionInfo": {
     "elapsed": 1765,
     "status": "ok",
     "timestamp": 1663506858092,
     "user": {
      "displayName": "Bolivorax Bolivorax",
      "userId": "09145586294376391882"
     },
     "user_tz": -120
    },
    "id": "9eU4TdXSiySh",
    "outputId": "a095494c-33c4-4658-b341-bbd3cb0ea28e"
   },
   "outputs": [
    {
     "name": "stdout",
     "output_type": "stream",
     "text": [
      "Nombre d'enregistrements  96454\n",
      "<class 'pandas.core.frame.DataFrame'>\n",
      "RangeIndex: 96454 entries, 0 to 96453\n",
      "Data columns (total 3 columns):\n",
      " #   Column     Non-Null Count  Dtype  \n",
      "---  ------     --------------  -----  \n",
      " 0   file       96454 non-null  object \n",
      " 1   word_size  96454 non-null  float32\n",
      " 2   label      96454 non-null  object \n",
      "dtypes: float32(1), object(2)\n",
      "memory usage: 1.8+ MB\n",
      "initialisation\n"
     ]
    }
   ],
   "source": [
    "imp = Importation('database')\n",
    "df = imp.get_words().sample(frac=1, random_state=1).reset_index()\n",
    "# n_lettres_max=11\n",
    "# df = df[df.word_size<=n_lettres_max][['file', 'word_size', 'label']]\n",
    "df.word_size = df.word_size.astype('float32')\n",
    "print(\"Nombre d'enregistrements \", df.shape[0])\n",
    "\n",
    "\n",
    "df = df[['file', 'word_size', 'label']]\n",
    "df.info()\n",
    "image_width = 128\n",
    "image_height = 32\n",
    "batch_size = 64\n",
    "img_size = (image_width, image_height)\n",
    "prepro = Preprocess(img_size, batch_size=batch_size, gaussianBlur=True)\n",
    "\n",
    "df_train, df_valid, df_test = prepro.split_data(df, train_size=0.9)\n",
    "\n",
    "x_train, y_train = df_train[\"file\"].values, df_train[\"word_size\"].values\n",
    "x_test, y_test = df_test[\"file\"].values, df_test[\"word_size\"].values\n",
    "x_valid, y_valid = df_valid[\"file\"].values, df_valid[\"word_size\"].values\n",
    "\n",
    "train_ds = prepro.prepare_dataset_word_size(x_train, y_train)\n",
    "validation_ds = prepro.prepare_dataset_word_size(x_valid, y_valid)\n",
    "test_ds = prepro.prepare_dataset_word_size(x_test, y_test)\n",
    "\n"
   ]
  },
  {
   "cell_type": "markdown",
   "metadata": {},
   "source": [
    "# Chargement du modèle"
   ]
  },
  {
   "cell_type": "code",
   "execution_count": 3,
   "metadata": {
    "colab": {
     "base_uri": "https://localhost:8080/"
    },
    "executionInfo": {
     "elapsed": 255,
     "status": "ok",
     "timestamp": 1663509031853,
     "user": {
      "displayName": "Bolivorax Bolivorax",
      "userId": "09145586294376391882"
     },
     "user_tz": -120
    },
    "id": "q6CK6bdBi1aQ",
    "outputId": "5734c6f4-5b9c-4021-de95-5f62e7bf3cf4"
   },
   "outputs": [
    {
     "name": "stdout",
     "output_type": "stream",
     "text": [
      "Model: \"LeNet\"\n",
      "_________________________________________________________________\n",
      " Layer (type)                Output Shape              Param #   \n",
      "=================================================================\n",
      " image (InputLayer)          [(None, 128, 32, 1)]      0         \n",
      "                                                                 \n",
      " conv1 (Conv2D)              (None, 124, 28, 30)       780       \n",
      "                                                                 \n",
      " max_pooling2d (MaxPooling2D  (None, 62, 14, 30)       0         \n",
      " )                                                               \n",
      "                                                                 \n",
      " dropout (Dropout)           (None, 62, 14, 30)        0         \n",
      "                                                                 \n",
      " conv2 (Conv2D)              (None, 60, 12, 50)        13550     \n",
      "                                                                 \n",
      " max_pooling2d_1 (MaxPooling  (None, 30, 6, 50)        0         \n",
      " 2D)                                                             \n",
      "                                                                 \n",
      " dropout_1 (Dropout)         (None, 30, 6, 50)         0         \n",
      "                                                                 \n",
      " flatten (Flatten)           (None, 9000)              0         \n",
      "                                                                 \n",
      " dense1 (Dense)              (None, 128)               1152128   \n",
      "                                                                 \n",
      " dense2 (Dense)              (None, 1)                 129       \n",
      "                                                                 \n",
      "=================================================================\n",
      "Total params: 1,166,587\n",
      "Trainable params: 1,166,587\n",
      "Non-trainable params: 0\n",
      "_________________________________________________________________\n"
     ]
    }
   ],
   "source": [
    "#import importlib\n",
    "#import sys\n",
    "#importlib.reload(sys.modules['wsmodel']) \n",
    "\n",
    "\n",
    "train = False\n",
    "model = wsmodel.create_model_lenet(image_width, image_height)\n",
    "#model = wsmodel.create_model_cnn(image_width, image_height)\n",
    "#model = wsmodel.create_model_dense(image_width, image_height)\n",
    "if train:\n",
    "    opt = tf.keras.optimizers.Adam()\n",
    "    model.compile(optimizer=opt, loss='mean_squared_error',\n",
    "                  metrics=['mean_absolute_error'])\n",
    "model.summary()"
   ]
  },
  {
   "cell_type": "markdown",
   "metadata": {},
   "source": [
    "# Entraînement du modèle "
   ]
  },
  {
   "cell_type": "code",
   "execution_count": 4,
   "metadata": {
    "colab": {
     "base_uri": "https://localhost:8080/",
     "height": 415
    },
    "executionInfo": {
     "elapsed": 55378,
     "status": "error",
     "timestamp": 1663509105781,
     "user": {
      "displayName": "Bolivorax Bolivorax",
      "userId": "09145586294376391882"
     },
     "user_tz": -120
    },
    "id": "B2HNzPlNjO3Q",
    "outputId": "db8146b1-4dcc-40bc-b357-735c875d6133"
   },
   "outputs": [
    {
     "name": "stdout",
     "output_type": "stream",
     "text": [
      "Epoch 1/50\n"
     ]
    },
    {
     "name": "stderr",
     "output_type": "stream",
     "text": [
      "2022-09-19 08:57:05.059232: I tensorflow/stream_executor/cuda/cuda_dnn.cc:384] Loaded cuDNN version 8302\n"
     ]
    },
    {
     "name": "stdout",
     "output_type": "stream",
     "text": [
      "1357/1357 [==============================] - 293s 215ms/step - loss: 2.4987 - mean_absolute_error: 1.0443 - val_loss: 5.6641 - val_mean_absolute_error: 1.9145\n",
      "Epoch 2/50\n",
      "1357/1357 [==============================] - 9s 7ms/step - loss: 1.0838 - mean_absolute_error: 0.7429 - val_loss: 4.1876 - val_mean_absolute_error: 1.6170\n",
      "Epoch 3/50\n",
      "1357/1357 [==============================] - 9s 7ms/step - loss: 0.8554 - mean_absolute_error: 0.6534 - val_loss: 2.8019 - val_mean_absolute_error: 1.3157\n",
      "Epoch 4/50\n",
      "1357/1357 [==============================] - 9s 7ms/step - loss: 0.7624 - mean_absolute_error: 0.6131 - val_loss: 2.0746 - val_mean_absolute_error: 1.1135\n",
      "Epoch 5/50\n",
      "1357/1357 [==============================] - 9s 7ms/step - loss: 0.7040 - mean_absolute_error: 0.5871 - val_loss: 1.2282 - val_mean_absolute_error: 0.8146\n",
      "Epoch 6/50\n",
      "1357/1357 [==============================] - 9s 7ms/step - loss: 0.6591 - mean_absolute_error: 0.5670 - val_loss: 0.9649 - val_mean_absolute_error: 0.7080\n",
      "Epoch 7/50\n",
      "1357/1357 [==============================] - 9s 7ms/step - loss: 0.6111 - mean_absolute_error: 0.5445 - val_loss: 1.2090 - val_mean_absolute_error: 0.8266\n",
      "Epoch 8/50\n",
      "1357/1357 [==============================] - 9s 7ms/step - loss: 0.5825 - mean_absolute_error: 0.5309 - val_loss: 1.1036 - val_mean_absolute_error: 0.7845\n",
      "Epoch 9/50\n",
      "1357/1357 [==============================] - 9s 7ms/step - loss: 0.5619 - mean_absolute_error: 0.5213 - val_loss: 1.1546 - val_mean_absolute_error: 0.8137\n",
      "Epoch 10/50\n",
      "1357/1357 [==============================] - 9s 7ms/step - loss: 0.5399 - mean_absolute_error: 0.5111 - val_loss: 1.0162 - val_mean_absolute_error: 0.7453\n",
      "Epoch 11/50\n",
      "1357/1357 [==============================] - 9s 7ms/step - loss: 0.5256 - mean_absolute_error: 0.5040 - val_loss: 0.8907 - val_mean_absolute_error: 0.6766\n",
      "Epoch 12/50\n",
      "1357/1357 [==============================] - 9s 7ms/step - loss: 0.5082 - mean_absolute_error: 0.4947 - val_loss: 1.1504 - val_mean_absolute_error: 0.7973\n",
      "Epoch 13/50\n",
      "1357/1357 [==============================] - 9s 7ms/step - loss: 0.4943 - mean_absolute_error: 0.4870 - val_loss: 1.0711 - val_mean_absolute_error: 0.7583\n",
      "Epoch 14/50\n",
      "1357/1357 [==============================] - 9s 7ms/step - loss: 0.4797 - mean_absolute_error: 0.4809 - val_loss: 1.0066 - val_mean_absolute_error: 0.7234\n",
      "Epoch 15/50\n",
      "1357/1357 [==============================] - 9s 7ms/step - loss: 0.4656 - mean_absolute_error: 0.4726 - val_loss: 1.0693 - val_mean_absolute_error: 0.7577\n",
      "Epoch 16/50\n",
      "1357/1357 [==============================] - 9s 7ms/step - loss: 0.4516 - mean_absolute_error: 0.4661 - val_loss: 1.1952 - val_mean_absolute_error: 0.8082\n",
      "Epoch 17/50\n",
      "1357/1357 [==============================] - 9s 7ms/step - loss: 0.4412 - mean_absolute_error: 0.4603 - val_loss: 1.4662 - val_mean_absolute_error: 0.9174\n",
      "Epoch 18/50\n",
      "1357/1357 [==============================] - 9s 7ms/step - loss: 0.4306 - mean_absolute_error: 0.4551 - val_loss: 1.2378 - val_mean_absolute_error: 0.8257\n",
      "Epoch 19/50\n",
      "1357/1357 [==============================] - 9s 7ms/step - loss: 0.4163 - mean_absolute_error: 0.4476 - val_loss: 1.2141 - val_mean_absolute_error: 0.8070\n",
      "Epoch 20/50\n",
      "1357/1357 [==============================] - 9s 7ms/step - loss: 0.4103 - mean_absolute_error: 0.4443 - val_loss: 0.8557 - val_mean_absolute_error: 0.6574\n",
      "Epoch 21/50\n",
      "1357/1357 [==============================] - 9s 7ms/step - loss: 0.4003 - mean_absolute_error: 0.4403 - val_loss: 1.0543 - val_mean_absolute_error: 0.7337\n",
      "Epoch 22/50\n",
      "1357/1357 [==============================] - 9s 7ms/step - loss: 0.3915 - mean_absolute_error: 0.4347 - val_loss: 1.1122 - val_mean_absolute_error: 0.7537\n",
      "Epoch 23/50\n",
      "1357/1357 [==============================] - 9s 7ms/step - loss: 0.3849 - mean_absolute_error: 0.4317 - val_loss: 0.7376 - val_mean_absolute_error: 0.5942\n",
      "Epoch 24/50\n",
      "1357/1357 [==============================] - 9s 7ms/step - loss: 0.3766 - mean_absolute_error: 0.4274 - val_loss: 0.8897 - val_mean_absolute_error: 0.6704\n",
      "Epoch 25/50\n",
      "1357/1357 [==============================] - 9s 7ms/step - loss: 0.3654 - mean_absolute_error: 0.4230 - val_loss: 1.2509 - val_mean_absolute_error: 0.8111\n",
      "Epoch 26/50\n",
      "1357/1357 [==============================] - 9s 7ms/step - loss: 0.3607 - mean_absolute_error: 0.4197 - val_loss: 1.0181 - val_mean_absolute_error: 0.7166\n",
      "Epoch 27/50\n",
      "1357/1357 [==============================] - 9s 7ms/step - loss: 0.3507 - mean_absolute_error: 0.4143 - val_loss: 0.9518 - val_mean_absolute_error: 0.6869\n",
      "Epoch 28/50\n",
      "1357/1357 [==============================] - 9s 7ms/step - loss: 0.3451 - mean_absolute_error: 0.4112 - val_loss: 0.7431 - val_mean_absolute_error: 0.5902\n",
      "Epoch 29/50\n",
      "1357/1357 [==============================] - 9s 7ms/step - loss: 0.3386 - mean_absolute_error: 0.4075 - val_loss: 0.8393 - val_mean_absolute_error: 0.6311\n",
      "Epoch 30/50\n",
      "1357/1357 [==============================] - 9s 7ms/step - loss: 0.3294 - mean_absolute_error: 0.4032 - val_loss: 0.9316 - val_mean_absolute_error: 0.6635\n",
      "Epoch 31/50\n",
      "1357/1357 [==============================] - 9s 7ms/step - loss: 0.3258 - mean_absolute_error: 0.4002 - val_loss: 1.2162 - val_mean_absolute_error: 0.7799\n",
      "Epoch 32/50\n",
      "1357/1357 [==============================] - 9s 7ms/step - loss: 0.3183 - mean_absolute_error: 0.3960 - val_loss: 0.8138 - val_mean_absolute_error: 0.6266\n",
      "Epoch 33/50\n",
      "1357/1357 [==============================] - 9s 7ms/step - loss: 0.3158 - mean_absolute_error: 0.3953 - val_loss: 0.7681 - val_mean_absolute_error: 0.5938\n",
      "Epoch 34/50\n",
      "1357/1357 [==============================] - 9s 7ms/step - loss: 0.3119 - mean_absolute_error: 0.3925 - val_loss: 0.8012 - val_mean_absolute_error: 0.6098\n",
      "Epoch 35/50\n",
      "1357/1357 [==============================] - 9s 7ms/step - loss: 0.3098 - mean_absolute_error: 0.3913 - val_loss: 0.7284 - val_mean_absolute_error: 0.5815\n",
      "Epoch 36/50\n",
      "1357/1357 [==============================] - 9s 7ms/step - loss: 0.3001 - mean_absolute_error: 0.3861 - val_loss: 0.7112 - val_mean_absolute_error: 0.5727\n",
      "Epoch 37/50\n",
      "1357/1357 [==============================] - 9s 7ms/step - loss: 0.2946 - mean_absolute_error: 0.3831 - val_loss: 0.6149 - val_mean_absolute_error: 0.5301\n",
      "Epoch 38/50\n",
      "1357/1357 [==============================] - 9s 7ms/step - loss: 0.2966 - mean_absolute_error: 0.3840 - val_loss: 0.6055 - val_mean_absolute_error: 0.5199\n",
      "Epoch 39/50\n",
      "1357/1357 [==============================] - 9s 7ms/step - loss: 0.2836 - mean_absolute_error: 0.3764 - val_loss: 0.5899 - val_mean_absolute_error: 0.5131\n",
      "Epoch 40/50\n",
      "1357/1357 [==============================] - 9s 7ms/step - loss: 0.2808 - mean_absolute_error: 0.3739 - val_loss: 0.6291 - val_mean_absolute_error: 0.5380\n",
      "Epoch 41/50\n",
      "1357/1357 [==============================] - 9s 7ms/step - loss: 0.2724 - mean_absolute_error: 0.3695 - val_loss: 0.5160 - val_mean_absolute_error: 0.4868\n",
      "Epoch 42/50\n",
      "1357/1357 [==============================] - 9s 7ms/step - loss: 0.2752 - mean_absolute_error: 0.3709 - val_loss: 0.5130 - val_mean_absolute_error: 0.4872\n",
      "Epoch 43/50\n",
      "1357/1357 [==============================] - 9s 7ms/step - loss: 0.2710 - mean_absolute_error: 0.3690 - val_loss: 0.5706 - val_mean_absolute_error: 0.5115\n",
      "Epoch 44/50\n",
      "1357/1357 [==============================] - 9s 7ms/step - loss: 0.2621 - mean_absolute_error: 0.3634 - val_loss: 0.4582 - val_mean_absolute_error: 0.4612\n",
      "Epoch 45/50\n",
      "1357/1357 [==============================] - 9s 7ms/step - loss: 0.2619 - mean_absolute_error: 0.3627 - val_loss: 0.5113 - val_mean_absolute_error: 0.4814\n",
      "Epoch 46/50\n",
      "1357/1357 [==============================] - 9s 7ms/step - loss: 0.2563 - mean_absolute_error: 0.3587 - val_loss: 0.4843 - val_mean_absolute_error: 0.4739\n",
      "Epoch 47/50\n",
      "1357/1357 [==============================] - 9s 7ms/step - loss: 0.2464 - mean_absolute_error: 0.3532 - val_loss: 0.5322 - val_mean_absolute_error: 0.4907\n",
      "Epoch 48/50\n",
      "1357/1357 [==============================] - 9s 7ms/step - loss: 0.2419 - mean_absolute_error: 0.3503 - val_loss: 0.4649 - val_mean_absolute_error: 0.4694\n",
      "Epoch 49/50\n",
      "1357/1357 [==============================] - 9s 7ms/step - loss: 0.2400 - mean_absolute_error: 0.3490 - val_loss: 0.4754 - val_mean_absolute_error: 0.4702\n",
      "Epoch 50/50\n",
      "1357/1357 [==============================] - 9s 7ms/step - loss: 0.2426 - mean_absolute_error: 0.3506 - val_loss: 0.4632 - val_mean_absolute_error: 0.4675\n"
     ]
    },
    {
     "data": {
      "image/png": "[encoded data removed]",
      "text/plain": [
       "<Figure size 864x288 with 2 Axes>"
      ]
     },
     "metadata": {
      "needs_background": "light"
     },
     "output_type": "display_data"
    }
   ],
   "source": [
    "if train:\n",
    "    epochs = 50\n",
    "    training_history = model.fit(\n",
    "        train_ds,\n",
    "        validation_data=validation_ds,\n",
    "        epochs=epochs,\n",
    "        verbose=1\n",
    "    )\n",
    "\n",
    "    train_loss = training_history.history[\"loss\"]\n",
    "    val_loss = training_history.history[\"val_loss\"]\n",
    "    train_acc = training_history.history[\"mean_absolute_error\"]\n",
    "    val_acc = training_history.history[\"val_mean_absolute_error\"]\n",
    "    plt.figure(figsize=(12, 4))\n",
    "    plt.subplot(121)\n",
    "    plt.plot(train_loss)\n",
    "    plt.plot(val_loss)\n",
    "    plt.title('Model loss per epoch')\n",
    "    plt.ylabel('loss')\n",
    "    plt.xlabel('epoch')\n",
    "    plt.legend(['train', 'test'], loc='right')\n",
    "\n",
    "    plt.subplot(122)\n",
    "    plt.plot(train_acc)\n",
    "    plt.plot(val_acc)\n",
    "    plt.title('Model mae per epoch')\n",
    "    plt.ylabel('mae')\n",
    "    plt.xlabel('epoch')\n",
    "    plt.legend(['train', 'test'], loc='right')\n",
    "    model.save_weights(\"models/word_size_lenet.h1\")\n",
    "\n",
    "else: \n",
    "    model.load_weights(\"models/word_size_lenet.h1\")"
   ]
  },
  {
   "cell_type": "markdown",
   "metadata": {},
   "source": [
    "# Prédictions"
   ]
  },
  {
   "cell_type": "code",
   "execution_count": 7,
   "metadata": {
    "colab": {
     "base_uri": "https://localhost:8080/",
     "height": 685
    },
    "executionInfo": {
     "elapsed": 1059,
     "status": "ok",
     "timestamp": 1663508101452,
     "user": {
      "displayName": "Bolivorax Bolivorax",
      "userId": "09145586294376391882"
     },
     "user_tz": -120
    },
    "id": "MbVW23GaKh_w",
    "outputId": "e0ca4288-e818-4f13-a7c4-41d7fb4881f5"
   },
   "outputs": [
    {
     "data": {
      "image/png": "[encoded data removed]",
      "text/plain": [
       "<Figure size 720x216 with 1 Axes>"
      ]
     },
     "metadata": {},
     "output_type": "display_data"
    },
    {
     "name": "stdout",
     "output_type": "stream",
     "text": [
      "Label     : house\n",
      "Word size     : 5\n",
      "Prédiction:  4.3\n"
     ]
    },
    {
     "data": {
      "image/png": "[encoded data removed]",
      "text/plain": [
       "<Figure size 720x216 with 1 Axes>"
      ]
     },
     "metadata": {},
     "output_type": "display_data"
    },
    {
     "name": "stdout",
     "output_type": "stream",
     "text": [
      "Label     : pins\n",
      "Word size     : 4\n",
      "Prédiction:  4.78\n"
     ]
    },
    {
     "data": {
      "image/png": "[encoded data removed]",
      "text/plain": [
       "<Figure size 720x216 with 1 Axes>"
      ]
     },
     "metadata": {},
     "output_type": "display_data"
    },
    {
     "name": "stdout",
     "output_type": "stream",
     "text": [
      "Label     : a\n",
      "Word size     : 1\n",
      "Prédiction:  1.14\n"
     ]
    }
   ],
   "source": [
    "\n",
    "\n",
    "# Création d'un dataset pour une image unique\n",
    "def get_ds(img_path, word_size):\n",
    "    x = np.array([img_path])\n",
    "    y = np.array([word_size])\n",
    "    ds = prepro.prepare_dataset_word_size(x, y)\n",
    "    return ds\n",
    "\n",
    "def get_prediction(ds):\n",
    "    errors = []\n",
    "    output_word_size = []\n",
    "    for batch in ds:\n",
    "        word_size = batch[1] \n",
    "        batch_images = batch[0]\n",
    "        #batch_images = tf.transpose(batch[0], [0,2,1,3])\n",
    "        preds = model.predict(batch_images, verbose=0)\n",
    "        output_word_size += [v[0] for v in preds.tolist()]\n",
    "    return output_word_size\n",
    "\n",
    "\n",
    "files = []\n",
    "labels = []\n",
    "predictions = []\n",
    "distances = []\n",
    "df_predict = df_test\n",
    "for i in np.random.choice(np.arange(0, len(df_predict)), size=3):  \n",
    "  label = df_predict.iloc[i].label\n",
    "  word_size = df_predict.iloc[i].word_size\n",
    "  img_path = df_predict.iloc[i].file\n",
    "  ds = get_ds(img_path, word_size)\n",
    "  prediction= get_prediction(ds)\n",
    "  prediction = np.round(prediction,2)[0]\n",
    "  image = cv2.imread(img_path)\n",
    "  plt.figure(figsize=(10,3))\n",
    "  plt.imshow(image, cmap='gray')\n",
    "  plt.xticks([])\n",
    "  plt.yticks([])\n",
    "  plt.show()\n",
    "  print(f\"Label     : {label}\")\n",
    "  print(f\"Word size     : {int(word_size)}\")\n",
    "  print(\"Prédiction: \",prediction)\n"
   ]
  },
  {
   "cell_type": "markdown",
   "metadata": {},
   "source": [
    "## Prédiction sur l'ensemble de test"
   ]
  },
  {
   "cell_type": "code",
   "execution_count": 8,
   "metadata": {},
   "outputs": [
    {
     "name": "stdout",
     "output_type": "stream",
     "text": [
      "Erreur Moyenne : 0.46039809247356417\n",
      "count    4823.000000\n",
      "mean        0.460398\n",
      "std         0.491846\n",
      "min         0.000000\n",
      "25%         0.130000\n",
      "50%         0.290000\n",
      "75%         0.620000\n",
      "max         4.950000\n",
      "Name: error, dtype: float64\n"
     ]
    },
    {
     "data": {
      "text/html": [
       "<div>\n",
       "<style scoped>\n",
       "    .dataframe tbody tr th:only-of-type {\n",
       "        vertical-align: middle;\n",
       "    }\n",
       "\n",
       "    .dataframe tbody tr th {\n",
       "        vertical-align: top;\n",
       "    }\n",
       "\n",
       "    .dataframe thead th {\n",
       "        text-align: right;\n",
       "    }\n",
       "</style>\n",
       "<table border=\"1\" class=\"dataframe\">\n",
       "  <thead>\n",
       "    <tr style=\"text-align: right;\">\n",
       "      <th></th>\n",
       "      <th>label</th>\n",
       "      <th>word_size</th>\n",
       "      <th>prediction</th>\n",
       "      <th>error</th>\n",
       "    </tr>\n",
       "  </thead>\n",
       "  <tbody>\n",
       "    <tr>\n",
       "      <th>91631</th>\n",
       "      <td>swift</td>\n",
       "      <td>5.0</td>\n",
       "      <td>4.139264</td>\n",
       "      <td>0.86</td>\n",
       "    </tr>\n",
       "    <tr>\n",
       "      <th>91632</th>\n",
       "      <td>Betti's</td>\n",
       "      <td>7.0</td>\n",
       "      <td>6.496086</td>\n",
       "      <td>0.50</td>\n",
       "    </tr>\n",
       "    <tr>\n",
       "      <th>91633</th>\n",
       "      <td>like</td>\n",
       "      <td>4.0</td>\n",
       "      <td>2.743648</td>\n",
       "      <td>1.26</td>\n",
       "    </tr>\n",
       "    <tr>\n",
       "      <th>91634</th>\n",
       "      <td>unceasing</td>\n",
       "      <td>9.0</td>\n",
       "      <td>8.732768</td>\n",
       "      <td>0.27</td>\n",
       "    </tr>\n",
       "    <tr>\n",
       "      <th>91635</th>\n",
       "      <td>Fell</td>\n",
       "      <td>4.0</td>\n",
       "      <td>4.884888</td>\n",
       "      <td>0.88</td>\n",
       "    </tr>\n",
       "    <tr>\n",
       "      <th>91636</th>\n",
       "      <td>Morfydd</td>\n",
       "      <td>7.0</td>\n",
       "      <td>7.342499</td>\n",
       "      <td>0.34</td>\n",
       "    </tr>\n",
       "    <tr>\n",
       "      <th>91637</th>\n",
       "      <td>in</td>\n",
       "      <td>2.0</td>\n",
       "      <td>2.143548</td>\n",
       "      <td>0.14</td>\n",
       "    </tr>\n",
       "    <tr>\n",
       "      <th>91638</th>\n",
       "      <td>unguarded</td>\n",
       "      <td>9.0</td>\n",
       "      <td>8.111118</td>\n",
       "      <td>0.89</td>\n",
       "    </tr>\n",
       "    <tr>\n",
       "      <th>91639</th>\n",
       "      <td>was</td>\n",
       "      <td>3.0</td>\n",
       "      <td>4.197986</td>\n",
       "      <td>1.20</td>\n",
       "    </tr>\n",
       "    <tr>\n",
       "      <th>91640</th>\n",
       "      <td>&amp;</td>\n",
       "      <td>1.0</td>\n",
       "      <td>1.047023</td>\n",
       "      <td>0.05</td>\n",
       "    </tr>\n",
       "    <tr>\n",
       "      <th>91641</th>\n",
       "      <td>the</td>\n",
       "      <td>3.0</td>\n",
       "      <td>3.417633</td>\n",
       "      <td>0.42</td>\n",
       "    </tr>\n",
       "    <tr>\n",
       "      <th>91642</th>\n",
       "      <td>under</td>\n",
       "      <td>5.0</td>\n",
       "      <td>4.430112</td>\n",
       "      <td>0.57</td>\n",
       "    </tr>\n",
       "    <tr>\n",
       "      <th>91643</th>\n",
       "      <td>each</td>\n",
       "      <td>4.0</td>\n",
       "      <td>3.650068</td>\n",
       "      <td>0.35</td>\n",
       "    </tr>\n",
       "    <tr>\n",
       "      <th>91644</th>\n",
       "      <td>a</td>\n",
       "      <td>1.0</td>\n",
       "      <td>1.176422</td>\n",
       "      <td>0.18</td>\n",
       "    </tr>\n",
       "    <tr>\n",
       "      <th>91645</th>\n",
       "      <td>damaging</td>\n",
       "      <td>8.0</td>\n",
       "      <td>9.693056</td>\n",
       "      <td>1.69</td>\n",
       "    </tr>\n",
       "    <tr>\n",
       "      <th>91646</th>\n",
       "      <td>went</td>\n",
       "      <td>4.0</td>\n",
       "      <td>4.260514</td>\n",
       "      <td>0.26</td>\n",
       "    </tr>\n",
       "    <tr>\n",
       "      <th>91647</th>\n",
       "      <td>.</td>\n",
       "      <td>1.0</td>\n",
       "      <td>1.078720</td>\n",
       "      <td>0.08</td>\n",
       "    </tr>\n",
       "    <tr>\n",
       "      <th>91648</th>\n",
       "      <td>a</td>\n",
       "      <td>1.0</td>\n",
       "      <td>1.118327</td>\n",
       "      <td>0.12</td>\n",
       "    </tr>\n",
       "    <tr>\n",
       "      <th>91649</th>\n",
       "      <td>I</td>\n",
       "      <td>1.0</td>\n",
       "      <td>1.275003</td>\n",
       "      <td>0.28</td>\n",
       "    </tr>\n",
       "    <tr>\n",
       "      <th>91650</th>\n",
       "      <td>a</td>\n",
       "      <td>1.0</td>\n",
       "      <td>1.043455</td>\n",
       "      <td>0.04</td>\n",
       "    </tr>\n",
       "  </tbody>\n",
       "</table>\n",
       "</div>"
      ],
      "text/plain": [
       "           label  word_size  prediction  error\n",
       "91631      swift        5.0    4.139264   0.86\n",
       "91632    Betti's        7.0    6.496086   0.50\n",
       "91633       like        4.0    2.743648   1.26\n",
       "91634  unceasing        9.0    8.732768   0.27\n",
       "91635       Fell        4.0    4.884888   0.88\n",
       "91636    Morfydd        7.0    7.342499   0.34\n",
       "91637         in        2.0    2.143548   0.14\n",
       "91638  unguarded        9.0    8.111118   0.89\n",
       "91639        was        3.0    4.197986   1.20\n",
       "91640          &        1.0    1.047023   0.05\n",
       "91641        the        3.0    3.417633   0.42\n",
       "91642      under        5.0    4.430112   0.57\n",
       "91643       each        4.0    3.650068   0.35\n",
       "91644          a        1.0    1.176422   0.18\n",
       "91645   damaging        8.0    9.693056   1.69\n",
       "91646       went        4.0    4.260514   0.26\n",
       "91647          .        1.0    1.078720   0.08\n",
       "91648          a        1.0    1.118327   0.12\n",
       "91649          I        1.0    1.275003   0.28\n",
       "91650          a        1.0    1.043455   0.04"
      ]
     },
     "execution_count": 8,
     "metadata": {},
     "output_type": "execute_result"
    }
   ],
   "source": [
    "ds = test_ds\n",
    "output = get_prediction(ds)\n",
    "\n",
    "        \n",
    "df_result = pd.DataFrame({'file' : df_test.file,\n",
    "                          'label': df_test.label,\n",
    "                          'word_size' : df_test.word_size,\n",
    "                          'prediction' : output,\n",
    "                         })\n",
    "\n",
    "df_result['error'] = np.round(np.abs((df_result['word_size'] -  df_result['prediction'])),2)\n",
    "\n",
    "print(f\"Erreur Moyenne : {df_result.error.mean()}\")\n",
    "print(df_result.error.describe())\n",
    "df_result.drop(\"file\", axis=1).head(20)"
   ]
  },
  {
   "cell_type": "code",
   "execution_count": null,
   "metadata": {},
   "outputs": [],
   "source": []
  }
 ],
 "metadata": {
  "accelerator": "GPU",
  "colab": {
   "authorship_tag": "ABX9TyNPxsC9rv0gF8I8OzEthTXH",
   "provenance": []
  },
  "kernelspec": {
   "display_name": "Python 3 (ipykernel)",
   "language": "python",
   "name": "python3"
  },
  "language_info": {
   "codemirror_mode": {
    "name": "ipython",
    "version": 3
   },
   "file_extension": ".py",
   "mimetype": "text/x-python",
   "name": "python",
   "nbconvert_exporter": "python",
   "pygments_lexer": "ipython3",
   "version": "3.8.13"
  }
 },
 "nbformat": 4,
 "nbformat_minor": 1
}
