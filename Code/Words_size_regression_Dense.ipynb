{
 "cells": [
  {
   "cell_type": "markdown",
   "metadata": {},
   "source": [
    "<h1>Words Size Regression - Modèle Dense</h1>\n",
    "<br>"
   ]
  },
  {
   "cell_type": "code",
   "execution_count": null,
   "metadata": {
    "colab": {
     "base_uri": "https://localhost:8080/"
    },
    "executionInfo": {
     "elapsed": 26583,
     "status": "ok",
     "timestamp": 1663505925275,
     "user": {
      "displayName": "Bolivorax Bolivorax",
      "userId": "09145586294376391882"
     },
     "user_tz": -120
    },
    "id": "3eBexw8V6a8r",
    "outputId": "aa8000cd-4f3d-4438-ef11-948147611ac7"
   },
   "outputs": [],
   "source": [
    "import os\n",
    "from google.colab import drive\n",
    "drive.mount('/content/drive', force_remount=True)"
   ]
  },
  {
   "cell_type": "code",
   "execution_count": null,
   "metadata": {
    "executionInfo": {
     "elapsed": 24178,
     "status": "ok",
     "timestamp": 1663505949448,
     "user": {
      "displayName": "Bolivorax Bolivorax",
      "userId": "09145586294376391882"
     },
     "user_tz": -120
    },
    "id": "6P5a_-pT6jRq"
   },
   "outputs": [],
   "source": [
    "!mkdir database\n",
    "! mkdir database/ascii\n",
    "! tar xzf drive/MyDrive/ocr/database/ascii.tgz -C database/ascii\n",
    "\n",
    "! mkdir database/words\n",
    "! tar xzf drive/MyDrive/ocr/database/words.tgz -C database/words\n",
    "\n",
    "! mkdir database/images_test\n",
    "! cp -r drive/MyDrive/ocr/database/images_test/* database/images_test/\n",
    "\n",
    "! cp drive/MyDrive/ocr/src/streamlit/importation.py importation.py\n",
    "! cp drive/MyDrive/ocr/src/streamlit/preprocessor_2.py preprocessor_2.py\n",
    "! cp drive/MyDrive/ocr/src/streamlit/wsmodel.py wsmodel.py\n",
    "\n",
    "! mkdir models\n",
    "! cp drive/MyDrive/ocr/models/* models/"
   ]
  },
  {
   "cell_type": "code",
   "execution_count": 1,
   "metadata": {
    "executionInfo": {
     "elapsed": 229,
     "status": "ok",
     "timestamp": 1663509019495,
     "user": {
      "displayName": "Bolivorax Bolivorax",
      "userId": "09145586294376391882"
     },
     "user_tz": -120
    },
    "id": "lCpAdPgW6FvS"
   },
   "outputs": [],
   "source": [
    "from importation import Importation\n",
    "\n",
    "from preprocessor import Preprocess\n",
    "import wsmodel\n",
    "import tensorflow as tf\n",
    "import matplotlib.pyplot as plt\n",
    "import pandas as pd\n",
    "import numpy as np\n",
    "import cv2"
   ]
  },
  {
   "cell_type": "markdown",
   "metadata": {},
   "source": [
    "# Importation des données - preprocessing"
   ]
  },
  {
   "cell_type": "code",
   "execution_count": 7,
   "metadata": {
    "colab": {
     "base_uri": "https://localhost:8080/"
    },
    "executionInfo": {
     "elapsed": 1765,
     "status": "ok",
     "timestamp": 1663506858092,
     "user": {
      "displayName": "Bolivorax Bolivorax",
      "userId": "09145586294376391882"
     },
     "user_tz": -120
    },
    "id": "9eU4TdXSiySh",
    "outputId": "a095494c-33c4-4658-b341-bbd3cb0ea28e"
   },
   "outputs": [
    {
     "name": "stdout",
     "output_type": "stream",
     "text": [
      "Nombre d'enregistrements  96454\n",
      "<class 'pandas.core.frame.DataFrame'>\n",
      "RangeIndex: 96454 entries, 0 to 96453\n",
      "Data columns (total 3 columns):\n",
      " #   Column     Non-Null Count  Dtype  \n",
      "---  ------     --------------  -----  \n",
      " 0   file       96454 non-null  object \n",
      " 1   word_size  96454 non-null  float32\n",
      " 2   label      96454 non-null  object \n",
      "dtypes: float32(1), object(2)\n",
      "memory usage: 1.8+ MB\n",
      "initialisation\n"
     ]
    }
   ],
   "source": [
    "imp = Importation('database')\n",
    "df = imp.get_words().sample(frac=1, random_state=1).reset_index()\n",
    "# n_lettres_max=11\n",
    "# df = df[df.word_size<=n_lettres_max][['file', 'word_size', 'label']]\n",
    "df.word_size = df.word_size.astype('float32')\n",
    "print(\"Nombre d'enregistrements \", df.shape[0])\n",
    "\n",
    "\n",
    "df = df[['file', 'word_size', 'label']]\n",
    "df.info()\n",
    "image_width = 128\n",
    "image_height = 32\n",
    "batch_size = 64\n",
    "img_size = (image_width, image_height)\n",
    "prepro = Preprocess(img_size, batch_size=batch_size, gaussianBlur=True)\n",
    "\n",
    "df_train, df_valid, df_test = prepro.split_data(df, train_size=0.9)\n",
    "\n",
    "x_train, y_train = df_train[\"file\"].values, df_train[\"word_size\"].values\n",
    "x_test, y_test = df_test[\"file\"].values, df_test[\"word_size\"].values\n",
    "x_valid, y_valid = df_valid[\"file\"].values, df_valid[\"word_size\"].values\n",
    "\n",
    "train_ds = prepro.prepare_dataset_word_size(x_train, y_train)\n",
    "validation_ds = prepro.prepare_dataset_word_size(x_valid, y_valid)\n",
    "test_ds = prepro.prepare_dataset_word_size(x_test, y_test)\n",
    "\n"
   ]
  },
  {
   "cell_type": "markdown",
   "metadata": {},
   "source": [
    "# Chargement du modèle"
   ]
  },
  {
   "cell_type": "code",
   "execution_count": 3,
   "metadata": {
    "colab": {
     "base_uri": "https://localhost:8080/"
    },
    "executionInfo": {
     "elapsed": 255,
     "status": "ok",
     "timestamp": 1663509031853,
     "user": {
      "displayName": "Bolivorax Bolivorax",
      "userId": "09145586294376391882"
     },
     "user_tz": -120
    },
    "id": "q6CK6bdBi1aQ",
    "outputId": "5734c6f4-5b9c-4021-de95-5f62e7bf3cf4"
   },
   "outputs": [
    {
     "name": "stdout",
     "output_type": "stream",
     "text": [
      "Model: \"Dense_model\"\n",
      "_________________________________________________________________\n",
      " Layer (type)                Output Shape              Param #   \n",
      "=================================================================\n",
      " image (InputLayer)          [(None, 128, 32, 1)]      0         \n",
      "                                                                 \n",
      " flatten (Flatten)           (None, 4096)              0         \n",
      "                                                                 \n",
      " dense (Dense)               (None, 512)               2097664   \n",
      "                                                                 \n",
      " dense_1 (Dense)             (None, 256)               131328    \n",
      "                                                                 \n",
      " dense_2 (Dense)             (None, 1)                 257       \n",
      "                                                                 \n",
      "=================================================================\n",
      "Total params: 2,229,249\n",
      "Trainable params: 2,229,249\n",
      "Non-trainable params: 0\n",
      "_________________________________________________________________\n"
     ]
    }
   ],
   "source": [
    "#import importlib\n",
    "#import sys\n",
    "#importlib.reload(sys.modules['wsmodel']) \n",
    "\n",
    "\n",
    "train = False\n",
    "#model = wsmodel.create_model_lenet(image_width, image_height)\n",
    "#model = wsmodel.create_model_cnn(image_width, image_height)\n",
    "model = wsmodel.create_model_dense(image_width, image_height)\n",
    "if train:\n",
    "    opt = tf.keras.optimizers.Adam()\n",
    "    model.compile(optimizer=opt, loss='mean_squared_error',\n",
    "                  metrics=['mean_absolute_error'])\n",
    "model.summary()"
   ]
  },
  {
   "cell_type": "markdown",
   "metadata": {},
   "source": [
    "# Entraînement du modèle "
   ]
  },
  {
   "cell_type": "code",
   "execution_count": 4,
   "metadata": {
    "colab": {
     "base_uri": "https://localhost:8080/",
     "height": 415
    },
    "executionInfo": {
     "elapsed": 55378,
     "status": "error",
     "timestamp": 1663509105781,
     "user": {
      "displayName": "Bolivorax Bolivorax",
      "userId": "09145586294376391882"
     },
     "user_tz": -120
    },
    "id": "B2HNzPlNjO3Q",
    "outputId": "db8146b1-4dcc-40bc-b357-735c875d6133"
   },
   "outputs": [
    {
     "name": "stdout",
     "output_type": "stream",
     "text": [
      "Epoch 1/50\n",
      "1357/1357 [==============================] - 280s 206ms/step - loss: 2.4607 - mean_absolute_error: 1.1352 - val_loss: 2.1106 - val_mean_absolute_error: 1.0434\n",
      "Epoch 2/50\n",
      "1357/1357 [==============================] - 3s 2ms/step - loss: 2.1454 - mean_absolute_error: 1.0457 - val_loss: 1.9546 - val_mean_absolute_error: 0.9886\n",
      "Epoch 3/50\n",
      "1357/1357 [==============================] - 3s 2ms/step - loss: 2.0294 - mean_absolute_error: 1.0105 - val_loss: 1.9165 - val_mean_absolute_error: 0.9756\n",
      "Epoch 4/50\n",
      "1357/1357 [==============================] - 3s 2ms/step - loss: 1.9556 - mean_absolute_error: 0.9883 - val_loss: 1.8198 - val_mean_absolute_error: 0.9571\n",
      "Epoch 5/50\n",
      "1357/1357 [==============================] - 3s 2ms/step - loss: 1.8916 - mean_absolute_error: 0.9705 - val_loss: 1.7882 - val_mean_absolute_error: 0.9476\n",
      "Epoch 6/50\n",
      "1357/1357 [==============================] - 3s 2ms/step - loss: 1.8335 - mean_absolute_error: 0.9547 - val_loss: 1.7659 - val_mean_absolute_error: 0.9402\n",
      "Epoch 7/50\n",
      "1357/1357 [==============================] - 3s 2ms/step - loss: 1.7875 - mean_absolute_error: 0.9417 - val_loss: 1.7692 - val_mean_absolute_error: 0.9424\n",
      "Epoch 8/50\n",
      "1357/1357 [==============================] - 3s 2ms/step - loss: 1.7433 - mean_absolute_error: 0.9297 - val_loss: 1.6727 - val_mean_absolute_error: 0.9284\n",
      "Epoch 9/50\n",
      "1357/1357 [==============================] - 3s 2ms/step - loss: 1.7177 - mean_absolute_error: 0.9229 - val_loss: 1.6614 - val_mean_absolute_error: 0.9155\n",
      "Epoch 10/50\n",
      "1357/1357 [==============================] - 3s 2ms/step - loss: 1.6825 - mean_absolute_error: 0.9122 - val_loss: 1.6602 - val_mean_absolute_error: 0.9121\n",
      "Epoch 11/50\n",
      "1357/1357 [==============================] - 3s 2ms/step - loss: 1.6627 - mean_absolute_error: 0.9070 - val_loss: 1.5902 - val_mean_absolute_error: 0.8985\n",
      "Epoch 12/50\n",
      "1357/1357 [==============================] - 3s 2ms/step - loss: 1.6372 - mean_absolute_error: 0.8992 - val_loss: 1.6010 - val_mean_absolute_error: 0.9015\n",
      "Epoch 13/50\n",
      "1357/1357 [==============================] - 3s 2ms/step - loss: 1.6220 - mean_absolute_error: 0.8951 - val_loss: 1.5776 - val_mean_absolute_error: 0.8948\n",
      "Epoch 14/50\n",
      "1357/1357 [==============================] - 3s 2ms/step - loss: 1.6038 - mean_absolute_error: 0.8896 - val_loss: 1.5784 - val_mean_absolute_error: 0.8926\n",
      "Epoch 15/50\n",
      "1357/1357 [==============================] - 3s 2ms/step - loss: 1.5888 - mean_absolute_error: 0.8854 - val_loss: 1.5896 - val_mean_absolute_error: 0.8991\n",
      "Epoch 16/50\n",
      "1357/1357 [==============================] - 3s 2ms/step - loss: 1.5762 - mean_absolute_error: 0.8816 - val_loss: 1.6039 - val_mean_absolute_error: 0.9005\n",
      "Epoch 17/50\n",
      "1357/1357 [==============================] - 3s 2ms/step - loss: 1.5596 - mean_absolute_error: 0.8774 - val_loss: 1.5742 - val_mean_absolute_error: 0.8958\n",
      "Epoch 18/50\n",
      "1357/1357 [==============================] - 3s 2ms/step - loss: 1.5531 - mean_absolute_error: 0.8748 - val_loss: 1.5602 - val_mean_absolute_error: 0.8886\n",
      "Epoch 19/50\n",
      "1357/1357 [==============================] - 3s 2ms/step - loss: 1.5391 - mean_absolute_error: 0.8705 - val_loss: 1.6059 - val_mean_absolute_error: 0.9017\n",
      "Epoch 20/50\n",
      "1357/1357 [==============================] - 3s 2ms/step - loss: 1.5239 - mean_absolute_error: 0.8666 - val_loss: 1.5757 - val_mean_absolute_error: 0.8950\n",
      "Epoch 21/50\n",
      "1357/1357 [==============================] - 3s 2ms/step - loss: 1.5144 - mean_absolute_error: 0.8638 - val_loss: 1.6084 - val_mean_absolute_error: 0.9011\n",
      "Epoch 22/50\n",
      "1357/1357 [==============================] - 3s 2ms/step - loss: 1.5078 - mean_absolute_error: 0.8617 - val_loss: 1.5837 - val_mean_absolute_error: 0.8947\n",
      "Epoch 23/50\n",
      "1357/1357 [==============================] - 3s 2ms/step - loss: 1.4916 - mean_absolute_error: 0.8569 - val_loss: 1.5922 - val_mean_absolute_error: 0.8926\n",
      "Epoch 24/50\n",
      "1357/1357 [==============================] - 3s 2ms/step - loss: 1.4820 - mean_absolute_error: 0.8546 - val_loss: 1.6094 - val_mean_absolute_error: 0.8919\n",
      "Epoch 25/50\n",
      "1357/1357 [==============================] - 3s 2ms/step - loss: 1.4785 - mean_absolute_error: 0.8536 - val_loss: 1.5917 - val_mean_absolute_error: 0.8903\n",
      "Epoch 26/50\n",
      "1357/1357 [==============================] - 3s 2ms/step - loss: 1.4684 - mean_absolute_error: 0.8502 - val_loss: 1.6159 - val_mean_absolute_error: 0.9023\n",
      "Epoch 27/50\n",
      "1357/1357 [==============================] - 3s 2ms/step - loss: 1.4634 - mean_absolute_error: 0.8480 - val_loss: 1.6076 - val_mean_absolute_error: 0.8914\n",
      "Epoch 28/50\n",
      "1357/1357 [==============================] - 3s 2ms/step - loss: 1.4534 - mean_absolute_error: 0.8457 - val_loss: 1.6063 - val_mean_absolute_error: 0.8921\n",
      "Epoch 29/50\n",
      "1357/1357 [==============================] - 3s 2ms/step - loss: 1.4488 - mean_absolute_error: 0.8447 - val_loss: 1.6028 - val_mean_absolute_error: 0.8917\n",
      "Epoch 30/50\n",
      "1357/1357 [==============================] - 3s 2ms/step - loss: 1.4351 - mean_absolute_error: 0.8406 - val_loss: 1.6100 - val_mean_absolute_error: 0.8921\n",
      "Epoch 31/50\n",
      "1357/1357 [==============================] - 3s 2ms/step - loss: 1.4348 - mean_absolute_error: 0.8402 - val_loss: 1.5854 - val_mean_absolute_error: 0.8848\n",
      "Epoch 32/50\n",
      "1357/1357 [==============================] - 3s 2ms/step - loss: 1.4237 - mean_absolute_error: 0.8371 - val_loss: 1.5636 - val_mean_absolute_error: 0.8768\n",
      "Epoch 33/50\n",
      "1357/1357 [==============================] - 3s 2ms/step - loss: 1.4194 - mean_absolute_error: 0.8359 - val_loss: 1.6398 - val_mean_absolute_error: 0.8935\n",
      "Epoch 34/50\n",
      "1357/1357 [==============================] - 3s 2ms/step - loss: 1.4156 - mean_absolute_error: 0.8346 - val_loss: 1.6223 - val_mean_absolute_error: 0.8931\n",
      "Epoch 35/50\n",
      "1357/1357 [==============================] - 3s 2ms/step - loss: 1.4043 - mean_absolute_error: 0.8311 - val_loss: 1.5665 - val_mean_absolute_error: 0.8821\n",
      "Epoch 36/50\n",
      "1357/1357 [==============================] - 3s 2ms/step - loss: 1.4031 - mean_absolute_error: 0.8315 - val_loss: 1.5924 - val_mean_absolute_error: 0.8888\n",
      "Epoch 37/50\n",
      "1357/1357 [==============================] - 3s 2ms/step - loss: 1.3957 - mean_absolute_error: 0.8293 - val_loss: 1.5985 - val_mean_absolute_error: 0.8883\n",
      "Epoch 38/50\n",
      "1357/1357 [==============================] - 3s 2ms/step - loss: 1.3890 - mean_absolute_error: 0.8272 - val_loss: 1.5341 - val_mean_absolute_error: 0.8665\n",
      "Epoch 39/50\n",
      "1357/1357 [==============================] - 3s 2ms/step - loss: 1.3864 - mean_absolute_error: 0.8267 - val_loss: 1.5953 - val_mean_absolute_error: 0.8805\n",
      "Epoch 40/50\n",
      "1357/1357 [==============================] - 3s 2ms/step - loss: 1.3775 - mean_absolute_error: 0.8237 - val_loss: 1.5922 - val_mean_absolute_error: 0.8880\n",
      "Epoch 41/50\n",
      "1357/1357 [==============================] - 3s 2ms/step - loss: 1.3734 - mean_absolute_error: 0.8225 - val_loss: 1.6177 - val_mean_absolute_error: 0.8905\n",
      "Epoch 42/50\n",
      "1357/1357 [==============================] - 3s 2ms/step - loss: 1.3700 - mean_absolute_error: 0.8207 - val_loss: 1.5301 - val_mean_absolute_error: 0.8691\n",
      "Epoch 43/50\n",
      "1357/1357 [==============================] - 3s 2ms/step - loss: 1.3624 - mean_absolute_error: 0.8193 - val_loss: 1.5708 - val_mean_absolute_error: 0.8808\n",
      "Epoch 44/50\n",
      "1357/1357 [==============================] - 3s 2ms/step - loss: 1.3586 - mean_absolute_error: 0.8177 - val_loss: 1.5879 - val_mean_absolute_error: 0.8904\n",
      "Epoch 45/50\n",
      "1357/1357 [==============================] - 3s 2ms/step - loss: 1.3542 - mean_absolute_error: 0.8163 - val_loss: 1.5285 - val_mean_absolute_error: 0.8723\n",
      "Epoch 46/50\n",
      "1357/1357 [==============================] - 3s 2ms/step - loss: 1.3507 - mean_absolute_error: 0.8153 - val_loss: 1.5635 - val_mean_absolute_error: 0.8825\n",
      "Epoch 47/50\n",
      "1357/1357 [==============================] - 3s 2ms/step - loss: 1.3479 - mean_absolute_error: 0.8144 - val_loss: 1.5370 - val_mean_absolute_error: 0.8739\n",
      "Epoch 48/50\n",
      "1357/1357 [==============================] - 3s 2ms/step - loss: 1.3413 - mean_absolute_error: 0.8129 - val_loss: 1.5329 - val_mean_absolute_error: 0.8744\n",
      "Epoch 49/50\n",
      "1357/1357 [==============================] - 3s 2ms/step - loss: 1.3387 - mean_absolute_error: 0.8121 - val_loss: 1.5242 - val_mean_absolute_error: 0.8754\n",
      "Epoch 50/50\n",
      "1357/1357 [==============================] - 3s 2ms/step - loss: 1.3335 - mean_absolute_error: 0.8103 - val_loss: 1.5351 - val_mean_absolute_error: 0.8784\n"
     ]
    },
    {
     "data": {
      "image/png": "[encoded data removed]",
      "text/plain": [
       "<Figure size 864x288 with 2 Axes>"
      ]
     },
     "metadata": {
      "needs_background": "light"
     },
     "output_type": "display_data"
    }
   ],
   "source": [
    "if train:\n",
    "    epochs = 50\n",
    "    training_history = model.fit(\n",
    "        train_ds,\n",
    "        validation_data=validation_ds,\n",
    "        epochs=epochs,\n",
    "        verbose=1\n",
    "    )\n",
    "\n",
    "    train_loss = training_history.history[\"loss\"]\n",
    "    val_loss = training_history.history[\"val_loss\"]\n",
    "    train_acc = training_history.history[\"mean_absolute_error\"]\n",
    "    val_acc = training_history.history[\"val_mean_absolute_error\"]\n",
    "    plt.figure(figsize=(12, 4))\n",
    "    plt.subplot(121)\n",
    "    plt.plot(train_loss)\n",
    "    plt.plot(val_loss)\n",
    "    plt.title('Model loss per epoch')\n",
    "    plt.ylabel('loss')\n",
    "    plt.xlabel('epoch')\n",
    "    plt.legend(['train', 'test'], loc='right')\n",
    "\n",
    "    plt.subplot(122)\n",
    "    plt.plot(train_acc)\n",
    "    plt.plot(val_acc)\n",
    "    plt.title('Model mae per epoch')\n",
    "    plt.ylabel('mae')\n",
    "    plt.xlabel('epoch')\n",
    "    plt.legend(['train', 'test'], loc='right')\n",
    "    model.save_weights(\"models/word_size_dense.h1\")\n",
    "\n",
    "else: \n",
    "    model.load_weights(\"models/word_size_dense.h1\")"
   ]
  },
  {
   "cell_type": "markdown",
   "metadata": {},
   "source": [
    "# Prédictions"
   ]
  },
  {
   "cell_type": "code",
   "execution_count": 5,
   "metadata": {
    "colab": {
     "base_uri": "https://localhost:8080/",
     "height": 685
    },
    "executionInfo": {
     "elapsed": 1059,
     "status": "ok",
     "timestamp": 1663508101452,
     "user": {
      "displayName": "Bolivorax Bolivorax",
      "userId": "09145586294376391882"
     },
     "user_tz": -120
    },
    "id": "MbVW23GaKh_w",
    "outputId": "e0ca4288-e818-4f13-a7c4-41d7fb4881f5"
   },
   "outputs": [
    {
     "data": {
      "image/png": "[encoded data removed]",
      "text/plain": [
       "<Figure size 720x216 with 1 Axes>"
      ]
     },
     "metadata": {},
     "output_type": "display_data"
    },
    {
     "name": "stdout",
     "output_type": "stream",
     "text": [
      "Label     : hopeful\n",
      "Word size     : 7\n",
      "Prédiction:  8.36\n"
     ]
    },
    {
     "data": {
      "image/png": "[encoded data removed]",
      "text/plain": [
       "<Figure size 720x216 with 1 Axes>"
      ]
     },
     "metadata": {},
     "output_type": "display_data"
    },
    {
     "name": "stdout",
     "output_type": "stream",
     "text": [
      "Label     : the\n",
      "Word size     : 3\n",
      "Prédiction:  3.38\n"
     ]
    },
    {
     "data": {
      "image/png": "[encoded data removed]",
      "text/plain": [
       "<Figure size 720x216 with 1 Axes>"
      ]
     },
     "metadata": {},
     "output_type": "display_data"
    },
    {
     "name": "stdout",
     "output_type": "stream",
     "text": [
      "Label     : -\n",
      "Word size     : 1\n",
      "Prédiction:  2.87\n"
     ]
    }
   ],
   "source": [
    "\n",
    "\n",
    "# Création d'un dataset pour une image unique\n",
    "def get_ds(img_path, word_size):\n",
    "    x = np.array([img_path])\n",
    "    y = np.array([word_size])\n",
    "    ds = prepro.prepare_dataset_word_size(x, y)\n",
    "    return ds\n",
    "\n",
    "def get_prediction(ds):\n",
    "    errors = []\n",
    "    output_word_size = []\n",
    "    for batch in ds:\n",
    "        word_size = batch[1] \n",
    "        batch_images = batch[0]\n",
    "        #batch_images = tf.transpose(batch[0], [0,2,1,3])\n",
    "        preds = model.predict(batch_images, verbose=0)\n",
    "        output_word_size += [v[0] for v in preds.tolist()]\n",
    "    return output_word_size\n",
    "\n",
    "\n",
    "files = []\n",
    "labels = []\n",
    "predictions = []\n",
    "distances = []\n",
    "df_predict = df_test\n",
    "for i in np.random.choice(np.arange(0, len(df_predict)), size=3):  \n",
    "  label = df_predict.iloc[i].label\n",
    "  word_size = df_predict.iloc[i].word_size\n",
    "  img_path = df_predict.iloc[i].file\n",
    "  ds = get_ds(img_path, word_size)\n",
    "  prediction= get_prediction(ds)\n",
    "  prediction = np.round(prediction,2)[0]\n",
    "  image = cv2.imread(img_path)\n",
    "  plt.figure(figsize=(10,3))\n",
    "  plt.imshow(image, cmap='gray')\n",
    "  plt.xticks([])\n",
    "  plt.yticks([])\n",
    "  plt.show()\n",
    "  print(f\"Label     : {label}\")\n",
    "  print(f\"Word size     : {int(word_size)}\")\n",
    "  print(\"Prédiction: \",prediction)\n"
   ]
  },
  {
   "cell_type": "markdown",
   "metadata": {},
   "source": [
    "## Prédiction sur l'ensemble de test"
   ]
  },
  {
   "cell_type": "code",
   "execution_count": 6,
   "metadata": {},
   "outputs": [
    {
     "name": "stdout",
     "output_type": "stream",
     "text": [
      "Erreur Moyenne : 0.8747397885133736\n",
      "count    4823.000000\n",
      "mean        0.874740\n",
      "std         0.895765\n",
      "min         0.000000\n",
      "25%         0.250000\n",
      "50%         0.590000\n",
      "75%         1.170000\n",
      "max         7.900000\n",
      "Name: error, dtype: float64\n"
     ]
    },
    {
     "data": {
      "text/html": [
       "<div>\n",
       "<style scoped>\n",
       "    .dataframe tbody tr th:only-of-type {\n",
       "        vertical-align: middle;\n",
       "    }\n",
       "\n",
       "    .dataframe tbody tr th {\n",
       "        vertical-align: top;\n",
       "    }\n",
       "\n",
       "    .dataframe thead th {\n",
       "        text-align: right;\n",
       "    }\n",
       "</style>\n",
       "<table border=\"1\" class=\"dataframe\">\n",
       "  <thead>\n",
       "    <tr style=\"text-align: right;\">\n",
       "      <th></th>\n",
       "      <th>label</th>\n",
       "      <th>word_size</th>\n",
       "      <th>prediction</th>\n",
       "      <th>error</th>\n",
       "    </tr>\n",
       "  </thead>\n",
       "  <tbody>\n",
       "    <tr>\n",
       "      <th>91631</th>\n",
       "      <td>swift</td>\n",
       "      <td>5.0</td>\n",
       "      <td>3.958129</td>\n",
       "      <td>1.04</td>\n",
       "    </tr>\n",
       "    <tr>\n",
       "      <th>91632</th>\n",
       "      <td>Betti's</td>\n",
       "      <td>7.0</td>\n",
       "      <td>7.493505</td>\n",
       "      <td>0.49</td>\n",
       "    </tr>\n",
       "    <tr>\n",
       "      <th>91633</th>\n",
       "      <td>like</td>\n",
       "      <td>4.0</td>\n",
       "      <td>3.762755</td>\n",
       "      <td>0.24</td>\n",
       "    </tr>\n",
       "    <tr>\n",
       "      <th>91634</th>\n",
       "      <td>unceasing</td>\n",
       "      <td>9.0</td>\n",
       "      <td>8.975956</td>\n",
       "      <td>0.02</td>\n",
       "    </tr>\n",
       "    <tr>\n",
       "      <th>91635</th>\n",
       "      <td>Fell</td>\n",
       "      <td>4.0</td>\n",
       "      <td>2.458233</td>\n",
       "      <td>1.54</td>\n",
       "    </tr>\n",
       "    <tr>\n",
       "      <th>91636</th>\n",
       "      <td>Morfydd</td>\n",
       "      <td>7.0</td>\n",
       "      <td>7.330547</td>\n",
       "      <td>0.33</td>\n",
       "    </tr>\n",
       "    <tr>\n",
       "      <th>91637</th>\n",
       "      <td>in</td>\n",
       "      <td>2.0</td>\n",
       "      <td>2.456373</td>\n",
       "      <td>0.46</td>\n",
       "    </tr>\n",
       "    <tr>\n",
       "      <th>91638</th>\n",
       "      <td>unguarded</td>\n",
       "      <td>9.0</td>\n",
       "      <td>10.363960</td>\n",
       "      <td>1.36</td>\n",
       "    </tr>\n",
       "    <tr>\n",
       "      <th>91639</th>\n",
       "      <td>was</td>\n",
       "      <td>3.0</td>\n",
       "      <td>4.428610</td>\n",
       "      <td>1.43</td>\n",
       "    </tr>\n",
       "    <tr>\n",
       "      <th>91640</th>\n",
       "      <td>&amp;</td>\n",
       "      <td>1.0</td>\n",
       "      <td>2.014445</td>\n",
       "      <td>1.01</td>\n",
       "    </tr>\n",
       "    <tr>\n",
       "      <th>91641</th>\n",
       "      <td>the</td>\n",
       "      <td>3.0</td>\n",
       "      <td>4.536959</td>\n",
       "      <td>1.54</td>\n",
       "    </tr>\n",
       "    <tr>\n",
       "      <th>91642</th>\n",
       "      <td>under</td>\n",
       "      <td>5.0</td>\n",
       "      <td>4.190377</td>\n",
       "      <td>0.81</td>\n",
       "    </tr>\n",
       "    <tr>\n",
       "      <th>91643</th>\n",
       "      <td>each</td>\n",
       "      <td>4.0</td>\n",
       "      <td>3.272147</td>\n",
       "      <td>0.73</td>\n",
       "    </tr>\n",
       "    <tr>\n",
       "      <th>91644</th>\n",
       "      <td>a</td>\n",
       "      <td>1.0</td>\n",
       "      <td>1.614770</td>\n",
       "      <td>0.61</td>\n",
       "    </tr>\n",
       "    <tr>\n",
       "      <th>91645</th>\n",
       "      <td>damaging</td>\n",
       "      <td>8.0</td>\n",
       "      <td>11.085169</td>\n",
       "      <td>3.09</td>\n",
       "    </tr>\n",
       "    <tr>\n",
       "      <th>91646</th>\n",
       "      <td>went</td>\n",
       "      <td>4.0</td>\n",
       "      <td>4.625486</td>\n",
       "      <td>0.63</td>\n",
       "    </tr>\n",
       "    <tr>\n",
       "      <th>91647</th>\n",
       "      <td>.</td>\n",
       "      <td>1.0</td>\n",
       "      <td>1.388641</td>\n",
       "      <td>0.39</td>\n",
       "    </tr>\n",
       "    <tr>\n",
       "      <th>91648</th>\n",
       "      <td>a</td>\n",
       "      <td>1.0</td>\n",
       "      <td>1.960065</td>\n",
       "      <td>0.96</td>\n",
       "    </tr>\n",
       "    <tr>\n",
       "      <th>91649</th>\n",
       "      <td>I</td>\n",
       "      <td>1.0</td>\n",
       "      <td>1.275726</td>\n",
       "      <td>0.28</td>\n",
       "    </tr>\n",
       "    <tr>\n",
       "      <th>91650</th>\n",
       "      <td>a</td>\n",
       "      <td>1.0</td>\n",
       "      <td>1.321929</td>\n",
       "      <td>0.32</td>\n",
       "    </tr>\n",
       "  </tbody>\n",
       "</table>\n",
       "</div>"
      ],
      "text/plain": [
       "           label  word_size  prediction  error\n",
       "91631      swift        5.0    3.958129   1.04\n",
       "91632    Betti's        7.0    7.493505   0.49\n",
       "91633       like        4.0    3.762755   0.24\n",
       "91634  unceasing        9.0    8.975956   0.02\n",
       "91635       Fell        4.0    2.458233   1.54\n",
       "91636    Morfydd        7.0    7.330547   0.33\n",
       "91637         in        2.0    2.456373   0.46\n",
       "91638  unguarded        9.0   10.363960   1.36\n",
       "91639        was        3.0    4.428610   1.43\n",
       "91640          &        1.0    2.014445   1.01\n",
       "91641        the        3.0    4.536959   1.54\n",
       "91642      under        5.0    4.190377   0.81\n",
       "91643       each        4.0    3.272147   0.73\n",
       "91644          a        1.0    1.614770   0.61\n",
       "91645   damaging        8.0   11.085169   3.09\n",
       "91646       went        4.0    4.625486   0.63\n",
       "91647          .        1.0    1.388641   0.39\n",
       "91648          a        1.0    1.960065   0.96\n",
       "91649          I        1.0    1.275726   0.28\n",
       "91650          a        1.0    1.321929   0.32"
      ]
     },
     "execution_count": 6,
     "metadata": {},
     "output_type": "execute_result"
    }
   ],
   "source": [
    "ds = test_ds\n",
    "output = get_prediction(ds)\n",
    "\n",
    "        \n",
    "df_result = pd.DataFrame({'file' : df_test.file,\n",
    "                          'label': df_test.label,\n",
    "                          'word_size' : df_test.word_size,\n",
    "                          'prediction' : output,\n",
    "                         })\n",
    "\n",
    "df_result['error'] = np.round(np.abs((df_result['word_size'] -  df_result['prediction'])),2)\n",
    "\n",
    "print(f\"Erreur Moyenne : {df_result.error.mean()}\")\n",
    "print(df_result.error.describe())\n",
    "df_result.drop(\"file\", axis=1).head(20)"
   ]
  },
  {
   "cell_type": "code",
   "execution_count": null,
   "metadata": {},
   "outputs": [],
   "source": []
  }
 ],
 "metadata": {
  "accelerator": "GPU",
  "colab": {
   "authorship_tag": "ABX9TyNPxsC9rv0gF8I8OzEthTXH",
   "provenance": []
  },
  "kernelspec": {
   "display_name": "Python 3 (ipykernel)",
   "language": "python",
   "name": "python3"
  },
  "language_info": {
   "codemirror_mode": {
    "name": "ipython",
    "version": 3
   },
   "file_extension": ".py",
   "mimetype": "text/x-python",
   "name": "python",
   "nbconvert_exporter": "python",
   "pygments_lexer": "ipython3",
   "version": "3.8.13"
  }
 },
 "nbformat": 4,
 "nbformat_minor": 1
}
