{
 "cells": [
  {
   "cell_type": "markdown",
   "metadata": {},
   "source": [
    "<h1>Top 10 Classification - Random Forest</h1>\n",
    "<br>"
   ]
  },
  {
   "cell_type": "code",
   "execution_count": null,
   "metadata": {
    "colab": {
     "base_uri": "https://localhost:8080/"
    },
    "executionInfo": {
     "elapsed": 20550,
     "status": "ok",
     "timestamp": 1661149649031,
     "user": {
      "displayName": "Madrisotti Francesco",
      "userId": "00592957910121879324"
     },
     "user_tz": -120
    },
    "id": "pgIXih0FOSO6",
    "outputId": "dd587aa9-7aa6-4642-ca0a-39a8a817d1fe"
   },
   "outputs": [
    {
     "name": "stdout",
     "output_type": "stream",
     "text": [
      "Mounted at /content/drive\n"
     ]
    }
   ],
   "source": [
    "from google.colab import drive\n",
    "drive.mount('/content/drive')\n",
    "import os\n",
    "os.chdir('/content/drive/MyDrive/ocr')"
   ]
  },
  {
   "cell_type": "code",
   "execution_count": 1,
   "metadata": {
    "id": "Wu2qV4E3OoqU"
   },
   "outputs": [],
   "source": [
    "import itertools\n",
    "import numpy as np\n",
    "import pandas as pd\n",
    "import matplotlib.pyplot as plt\n",
    "import cv2\n",
    "from sklearn.model_selection import train_test_split\n",
    "from sklearn.preprocessing import LabelEncoder\n",
    "from sklearn.ensemble import RandomForestClassifier\n",
    "from sklearn.metrics import accuracy_score, classification_report, confusion_matrix\n",
    "\n",
    "from importation import Importation"
   ]
  },
  {
   "cell_type": "markdown",
   "metadata": {},
   "source": [
    "# Importation des données - preprocessing"
   ]
  },
  {
   "cell_type": "code",
   "execution_count": 3,
   "metadata": {},
   "outputs": [
    {
     "name": "stdout",
     "output_type": "stream",
     "text": [
      "Nombre d'enregistrements  96454\n",
      "<class 'pandas.core.frame.DataFrame'>\n",
      "RangeIndex: 96454 entries, 0 to 96453\n",
      "Data columns (total 3 columns):\n",
      " #   Column     Non-Null Count  Dtype  \n",
      "---  ------     --------------  -----  \n",
      " 0   file       96454 non-null  object \n",
      " 1   label      96454 non-null  object \n",
      " 2   word_size  96454 non-null  float32\n",
      "dtypes: float32(1), object(2)\n",
      "memory usage: 1.8+ MB\n",
      "\n",
      "Top 10 mots 3 ou 4 lettres : \n",
      "\n",
      "the     4986\n",
      "and     2110\n",
      "was      970\n",
      "that     968\n",
      "for      718\n",
      "had      670\n",
      "with     645\n",
      "his      597\n",
      "The      548\n",
      "not      412\n",
      "Name: label, dtype: int64\n"
     ]
    }
   ],
   "source": [
    "imp = Importation('database')\n",
    "df = imp.get_words().sample(frac=1, random_state=1).reset_index()\n",
    "\n",
    "df.word_size = df.word_size.astype('float32')\n",
    "print(\"Nombre d'enregistrements \", df.shape[0])\n",
    "\n",
    "\n",
    "df = df[['file','label', 'word_size']]\n",
    "df.info()\n",
    "num_classes = 10\n",
    "words_list = df[(df.word_size==3)|(df.word_size==4)].label.value_counts().head(num_classes)\n",
    "print(\"\\nTop 10 mots 3 ou 4 lettres : \\n\")\n",
    "print(words_list)\n",
    "\n",
    "df = df[df.label.isin(words_list.index)]\n",
    "encoder = LabelEncoder()\n",
    "df[\"label_encoded\"] = encoder.fit_transform(df.label)\n",
    "\n",
    "df.head(20)\n",
    "\n",
    "# On redimensionne les images à 128x32\n",
    "image_width = 128\n",
    "image_height = 32\n",
    "\n",
    "img_size = (image_width, image_height)\n",
    "\n",
    "X = []\n",
    "Y = []\n",
    "\n",
    "dim = (image_width, image_height)\n",
    "for file, label in zip(df[\"file\"],df[\"label\"]):\n",
    "    image = cv2.resize(cv2.imread(file, cv2.IMREAD_GRAYSCALE),\n",
    "                  dim, cv2.IMREAD_GRAYSCALE)\n",
    "    X.append(np.array(image))\n",
    "    Y.append(label)\n",
    "\n",
    "# Normalise input data to range [0,1]\n",
    "X = np.array(X)\n",
    "X = X.astype('float32')\n",
    "shape = list(X.shape)\n",
    "shape.append(1)\n",
    "X = X.reshape(shape)\n",
    "X /= 255.0\n",
    "\n",
    "# Encodage des labels\n",
    "X = X.reshape([-1, image_width*image_height])\n",
    "encoder = LabelEncoder()\n",
    "Y = encoder.fit_transform(Y)\n",
    "X_train, X_test, y_train, y_test = train_test_split(X, Y, test_size=0.25, random_state=42)"
   ]
  },
  {
   "cell_type": "markdown",
   "metadata": {
    "id": "vlGNMujUTLN3"
   },
   "source": [
    "<h3>Random Forest</h3>\n",
    "\n"
   ]
  },
  {
   "cell_type": "code",
   "execution_count": 4,
   "metadata": {
    "colab": {
     "base_uri": "https://localhost:8080/"
    },
    "executionInfo": {
     "elapsed": 30802,
     "status": "ok",
     "timestamp": 1661151850462,
     "user": {
      "displayName": "Madrisotti Francesco",
      "userId": "00592957910121879324"
     },
     "user_tz": -120
    },
    "id": "71vrRQZimnIr",
    "outputId": "5c112017-ec48-49e8-a6c3-e2c7cd3450c9"
   },
   "outputs": [
    {
     "data": {
      "text/html": [
       "<style>#sk-container-id-1 {color: black;background-color: white;}#sk-container-id-1 pre{padding: 0;}#sk-container-id-1 div.sk-toggleable {background-color: white;}#sk-container-id-1 label.sk-toggleable__label {cursor: pointer;display: block;width: 100%;margin-bottom: 0;padding: 0.3em;box-sizing: border-box;text-align: center;}#sk-container-id-1 label.sk-toggleable__label-arrow:before {content: \"▸\";float: left;margin-right: 0.25em;color: #696969;}#sk-container-id-1 label.sk-toggleable__label-arrow:hover:before {color: black;}#sk-container-id-1 div.sk-estimator:hover label.sk-toggleable__label-arrow:before {color: black;}#sk-container-id-1 div.sk-toggleable__content {max-height: 0;max-width: 0;overflow: hidden;text-align: left;background-color: #f0f8ff;}#sk-container-id-1 div.sk-toggleable__content pre {margin: 0.2em;color: black;border-radius: 0.25em;background-color: #f0f8ff;}#sk-container-id-1 input.sk-toggleable__control:checked~div.sk-toggleable__content {max-height: 200px;max-width: 100%;overflow: auto;}#sk-container-id-1 input.sk-toggleable__control:checked~label.sk-toggleable__label-arrow:before {content: \"▾\";}#sk-container-id-1 div.sk-estimator input.sk-toggleable__control:checked~label.sk-toggleable__label {background-color: #d4ebff;}#sk-container-id-1 div.sk-label input.sk-toggleable__control:checked~label.sk-toggleable__label {background-color: #d4ebff;}#sk-container-id-1 input.sk-hidden--visually {border: 0;clip: rect(1px 1px 1px 1px);clip: rect(1px, 1px, 1px, 1px);height: 1px;margin: -1px;overflow: hidden;padding: 0;position: absolute;width: 1px;}#sk-container-id-1 div.sk-estimator {font-family: monospace;background-color: #f0f8ff;border: 1px dotted black;border-radius: 0.25em;box-sizing: border-box;margin-bottom: 0.5em;}#sk-container-id-1 div.sk-estimator:hover {background-color: #d4ebff;}#sk-container-id-1 div.sk-parallel-item::after {content: \"\";width: 100%;border-bottom: 1px solid gray;flex-grow: 1;}#sk-container-id-1 div.sk-label:hover label.sk-toggleable__label {background-color: #d4ebff;}#sk-container-id-1 div.sk-serial::before {content: \"\";position: absolute;border-left: 1px solid gray;box-sizing: border-box;top: 0;bottom: 0;left: 50%;z-index: 0;}#sk-container-id-1 div.sk-serial {display: flex;flex-direction: column;align-items: center;background-color: white;padding-right: 0.2em;padding-left: 0.2em;position: relative;}#sk-container-id-1 div.sk-item {position: relative;z-index: 1;}#sk-container-id-1 div.sk-parallel {display: flex;align-items: stretch;justify-content: center;background-color: white;position: relative;}#sk-container-id-1 div.sk-item::before, #sk-container-id-1 div.sk-parallel-item::before {content: \"\";position: absolute;border-left: 1px solid gray;box-sizing: border-box;top: 0;bottom: 0;left: 50%;z-index: -1;}#sk-container-id-1 div.sk-parallel-item {display: flex;flex-direction: column;z-index: 1;position: relative;background-color: white;}#sk-container-id-1 div.sk-parallel-item:first-child::after {align-self: flex-end;width: 50%;}#sk-container-id-1 div.sk-parallel-item:last-child::after {align-self: flex-start;width: 50%;}#sk-container-id-1 div.sk-parallel-item:only-child::after {width: 0;}#sk-container-id-1 div.sk-dashed-wrapped {border: 1px dashed gray;margin: 0 0.4em 0.5em 0.4em;box-sizing: border-box;padding-bottom: 0.4em;background-color: white;}#sk-container-id-1 div.sk-label label {font-family: monospace;font-weight: bold;display: inline-block;line-height: 1.2em;}#sk-container-id-1 div.sk-label-container {text-align: center;}#sk-container-id-1 div.sk-container {/* jupyter's `normalize.less` sets `[hidden] { display: none; }` but bootstrap.min.css set `[hidden] { display: none !important; }` so we also need the `!important` here to be able to override the default hidden behavior on the sphinx rendered scikit-learn.org. See: https://github.com/scikit-learn/scikit-learn/issues/21755 */display: inline-block !important;position: relative;}#sk-container-id-1 div.sk-text-repr-fallback {display: none;}</style><div id=\"sk-container-id-1\" class=\"sk-top-container\"><div class=\"sk-text-repr-fallback\"><pre>RandomForestClassifier(n_jobs=-1)</pre><b>In a Jupyter environment, please rerun this cell to show the HTML representation or trust the notebook. <br />On GitHub, the HTML representation is unable to render, please try loading this page with nbviewer.org.</b></div><div class=\"sk-container\" hidden><div class=\"sk-item\"><div class=\"sk-estimator sk-toggleable\"><input class=\"sk-toggleable__control sk-hidden--visually\" id=\"sk-estimator-id-1\" type=\"checkbox\" checked><label for=\"sk-estimator-id-1\" class=\"sk-toggleable__label sk-toggleable__label-arrow\">RandomForestClassifier</label><div class=\"sk-toggleable__content\"><pre>RandomForestClassifier(n_jobs=-1)</pre></div></div></div></div></div>"
      ],
      "text/plain": [
       "RandomForestClassifier(n_jobs=-1)"
      ]
     },
     "execution_count": 4,
     "metadata": {},
     "output_type": "execute_result"
    }
   ],
   "source": [
    "clf = RandomForestClassifier(n_jobs=-1)\n",
    "clf.fit(X_train, y_train)"
   ]
  },
  {
   "cell_type": "code",
   "execution_count": 5,
   "metadata": {
    "colab": {
     "base_uri": "https://localhost:8080/"
    },
    "executionInfo": {
     "elapsed": 767,
     "status": "ok",
     "timestamp": 1661151938491,
     "user": {
      "displayName": "Madrisotti Francesco",
      "userId": "00592957910121879324"
     },
     "user_tz": -120
    },
    "id": "1qbnRf_VSOGK",
    "outputId": "b82297ac-bf04-46ce-f78d-977f2e040297"
   },
   "outputs": [
    {
     "name": "stdout",
     "output_type": "stream",
     "text": [
      "0.8561470215462611\n",
      "              precision    recall  f1-score   support\n",
      "\n",
      "         The       1.00      0.48      0.65       140\n",
      "         and       0.86      0.94      0.90       542\n",
      "         for       0.91      0.79      0.85       176\n",
      "         had       0.89      0.65      0.75       170\n",
      "         his       0.92      0.60      0.72       147\n",
      "         not       0.93      0.37      0.52       101\n",
      "        that       0.85      0.82      0.83       224\n",
      "         the       0.83      0.99      0.90      1248\n",
      "         was       0.90      0.85      0.87       248\n",
      "        with       0.85      0.78      0.81       160\n",
      "\n",
      "    accuracy                           0.86      3156\n",
      "   macro avg       0.89      0.72      0.78      3156\n",
      "weighted avg       0.86      0.86      0.85      3156\n",
      "\n"
     ]
    }
   ],
   "source": [
    "test_pred = clf.predict(X_test)\n",
    "\n",
    "print(accuracy_score(y_test, test_pred))\n",
    "print(classification_report(encoder.inverse_transform(y_test), encoder.inverse_transform(test_pred)))\n",
    "cnf_matrix = confusion_matrix(y_test, test_pred)"
   ]
  },
  {
   "cell_type": "code",
   "execution_count": 8,
   "metadata": {
    "colab": {
     "base_uri": "https://localhost:8080/",
     "height": 736
    },
    "executionInfo": {
     "elapsed": 710,
     "status": "ok",
     "timestamp": 1650453176548,
     "user": {
      "displayName": "jan22cds ocr",
      "userId": "10597119729384772508"
     },
     "user_tz": -120
    },
    "id": "e9RnJp6aSqxI",
    "outputId": "1de51958-dde9-4cdb-a77a-7bcbb87f95b2"
   },
   "outputs": [
    {
     "data": {
      "image/png": "[encoded data removed]",
      "text/plain": [
       "<Figure size 720x720 with 2 Axes>"
      ]
     },
     "metadata": {
      "needs_background": "light"
     },
     "output_type": "display_data"
    },
    {
     "name": "stdout",
     "output_type": "stream",
     "text": [
      "Le mot 'The' a souvent été pris pour le mot 'the'\n",
      "Le mot 'for' a souvent été pris pour le mot 'the'\n",
      "Le mot 'had' a souvent été pris pour le mot 'that'\n",
      "Le mot 'had' a souvent été pris pour le mot 'the'\n",
      "Le mot 'his' a souvent été pris pour le mot 'the'\n",
      "Le mot 'not' a souvent été pris pour le mot 'and'\n",
      "Le mot 'that' a souvent été pris pour le mot 'the'\n",
      "Le mot 'was' a souvent été pris pour le mot 'the'\n",
      "Le mot 'with' a souvent été pris pour le mot 'and'\n"
     ]
    }
   ],
   "source": [
    "###Afficher une matrice de confusion sous forme de tableau coloré\n",
    "\n",
    "plt.figure(figsize=(10,10))\n",
    "\n",
    "plt.imshow(cnf_matrix, interpolation='nearest',cmap='Blues')\n",
    "plt.title(\"Matrice de confusion\")\n",
    "plt.colorbar()\n",
    "tick_marks = np.arange(num_classes)\n",
    "classes = encoder.inverse_transform(tick_marks)\n",
    "plt.xticks(tick_marks, classes)\n",
    "plt.yticks(tick_marks, classes)\n",
    "\n",
    "for i, j in itertools.product(range(cnf_matrix.shape[0]), range(cnf_matrix.shape[1])):\n",
    "    plt.text(j, i, cnf_matrix[i, j],\n",
    "             horizontalalignment = \"center\",\n",
    "             color = \"white\" if cnf_matrix[i, j] > ( cnf_matrix.max() / 2) else \"black\")\n",
    "\n",
    "plt.ylabel('Vrais labels')\n",
    "plt.xlabel('Labels prédits')\n",
    "plt.show()\n",
    "\n",
    "for i, j in itertools.product(range(cnf_matrix.shape[0]), range(cnf_matrix.shape[1])):\n",
    "    if(cnf_matrix[i,j] >15 and i!=j):\n",
    "        print(\"Le mot '{0}' a souvent été pris pour le mot '{1}'\".format(classes[i],classes[j]))"
   ]
  },
  {
   "cell_type": "code",
   "execution_count": null,
   "metadata": {},
   "outputs": [],
   "source": []
  }
 ],
 "metadata": {
  "colab": {
   "name": "Words_Top10_RF.ipynb",
   "provenance": []
  },
  "kernelspec": {
   "display_name": "Python 3 (ipykernel)",
   "language": "python",
   "name": "python3"
  },
  "language_info": {
   "codemirror_mode": {
    "name": "ipython",
    "version": 3
   },
   "file_extension": ".py",
   "mimetype": "text/x-python",
   "name": "python",
   "nbconvert_exporter": "python",
   "pygments_lexer": "ipython3",
   "version": "3.8.13"
  }
 },
 "nbformat": 4,
 "nbformat_minor": 1
}
