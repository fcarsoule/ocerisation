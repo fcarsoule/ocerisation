{
 "cells": [
  {
   "cell_type": "markdown",
   "metadata": {},
   "source": [
    "<h1>Words Size Regression - Modèle CNN</h1>\n",
    "<br>"
   ]
  },
  {
   "cell_type": "code",
   "execution_count": null,
   "metadata": {
    "colab": {
     "base_uri": "https://localhost:8080/"
    },
    "executionInfo": {
     "elapsed": 26583,
     "status": "ok",
     "timestamp": 1663505925275,
     "user": {
      "displayName": "Bolivorax Bolivorax",
      "userId": "09145586294376391882"
     },
     "user_tz": -120
    },
    "id": "3eBexw8V6a8r",
    "outputId": "aa8000cd-4f3d-4438-ef11-948147611ac7"
   },
   "outputs": [],
   "source": [
    "import os\n",
    "from google.colab import drive\n",
    "drive.mount('/content/drive', force_remount=True)"
   ]
  },
  {
   "cell_type": "code",
   "execution_count": null,
   "metadata": {
    "executionInfo": {
     "elapsed": 24178,
     "status": "ok",
     "timestamp": 1663505949448,
     "user": {
      "displayName": "Bolivorax Bolivorax",
      "userId": "09145586294376391882"
     },
     "user_tz": -120
    },
    "id": "6P5a_-pT6jRq"
   },
   "outputs": [],
   "source": [
    "!mkdir database\n",
    "! mkdir database/ascii\n",
    "! tar xzf drive/MyDrive/ocr/database/ascii.tgz -C database/ascii\n",
    "\n",
    "! mkdir database/words\n",
    "! tar xzf drive/MyDrive/ocr/database/words.tgz -C database/words\n",
    "\n",
    "! mkdir database/images_test\n",
    "! cp -r drive/MyDrive/ocr/database/images_test/* database/images_test/\n",
    "\n",
    "! cp drive/MyDrive/ocr/src/streamlit/importation.py importation.py\n",
    "! cp drive/MyDrive/ocr/src/streamlit/preprocessor_2.py preprocessor_2.py\n",
    "! cp drive/MyDrive/ocr/src/streamlit/wsmodel.py wsmodel.py\n",
    "\n",
    "! mkdir models\n",
    "! cp drive/MyDrive/ocr/models/* models/"
   ]
  },
  {
   "cell_type": "code",
   "execution_count": 1,
   "metadata": {
    "executionInfo": {
     "elapsed": 229,
     "status": "ok",
     "timestamp": 1663509019495,
     "user": {
      "displayName": "Bolivorax Bolivorax",
      "userId": "09145586294376391882"
     },
     "user_tz": -120
    },
    "id": "lCpAdPgW6FvS"
   },
   "outputs": [],
   "source": [
    "from importation import Importation\n",
    "\n",
    "from preprocessor import Preprocess\n",
    "import wsmodel\n",
    "import tensorflow as tf\n",
    "import matplotlib.pyplot as plt\n",
    "import pandas as pd\n",
    "import numpy as np\n",
    "import cv2"
   ]
  },
  {
   "cell_type": "markdown",
   "metadata": {},
   "source": [
    "# Importation des données - preprocessing"
   ]
  },
  {
   "cell_type": "code",
   "execution_count": 2,
   "metadata": {
    "colab": {
     "base_uri": "https://localhost:8080/"
    },
    "executionInfo": {
     "elapsed": 1765,
     "status": "ok",
     "timestamp": 1663506858092,
     "user": {
      "displayName": "Bolivorax Bolivorax",
      "userId": "09145586294376391882"
     },
     "user_tz": -120
    },
    "id": "9eU4TdXSiySh",
    "outputId": "a095494c-33c4-4658-b341-bbd3cb0ea28e"
   },
   "outputs": [
    {
     "name": "stdout",
     "output_type": "stream",
     "text": [
      "Nombre d'enregistrements  96454\n",
      "<class 'pandas.core.frame.DataFrame'>\n",
      "RangeIndex: 96454 entries, 0 to 96453\n",
      "Data columns (total 3 columns):\n",
      " #   Column     Non-Null Count  Dtype  \n",
      "---  ------     --------------  -----  \n",
      " 0   file       96454 non-null  object \n",
      " 1   word_size  96454 non-null  float32\n",
      " 2   label      96454 non-null  object \n",
      "dtypes: float32(1), object(2)\n",
      "memory usage: 1.8+ MB\n",
      "initialisation\n"
     ]
    },
    {
     "name": "stderr",
     "output_type": "stream",
     "text": [
      "2022-09-19 09:46:00.379883: I tensorflow/stream_executor/cuda/cuda_gpu_executor.cc:975] successful NUMA node read from SysFS had negative value (-1), but there must be at least one NUMA node, so returning NUMA node zero\n",
      "2022-09-19 09:46:00.415511: I tensorflow/stream_executor/cuda/cuda_gpu_executor.cc:975] successful NUMA node read from SysFS had negative value (-1), but there must be at least one NUMA node, so returning NUMA node zero\n",
      "2022-09-19 09:46:00.415729: I tensorflow/stream_executor/cuda/cuda_gpu_executor.cc:975] successful NUMA node read from SysFS had negative value (-1), but there must be at least one NUMA node, so returning NUMA node zero\n",
      "2022-09-19 09:46:00.416454: I tensorflow/core/platform/cpu_feature_guard.cc:193] This TensorFlow binary is optimized with oneAPI Deep Neural Network Library (oneDNN) to use the following CPU instructions in performance-critical operations:  AVX2 FMA\n",
      "To enable them in other operations, rebuild TensorFlow with the appropriate compiler flags.\n",
      "2022-09-19 09:46:00.416744: I tensorflow/stream_executor/cuda/cuda_gpu_executor.cc:975] successful NUMA node read from SysFS had negative value (-1), but there must be at least one NUMA node, so returning NUMA node zero\n",
      "2022-09-19 09:46:00.416929: I tensorflow/stream_executor/cuda/cuda_gpu_executor.cc:975] successful NUMA node read from SysFS had negative value (-1), but there must be at least one NUMA node, so returning NUMA node zero\n",
      "2022-09-19 09:46:00.417099: I tensorflow/stream_executor/cuda/cuda_gpu_executor.cc:975] successful NUMA node read from SysFS had negative value (-1), but there must be at least one NUMA node, so returning NUMA node zero\n",
      "2022-09-19 09:46:00.872965: I tensorflow/stream_executor/cuda/cuda_gpu_executor.cc:975] successful NUMA node read from SysFS had negative value (-1), but there must be at least one NUMA node, so returning NUMA node zero\n",
      "2022-09-19 09:46:00.873179: I tensorflow/stream_executor/cuda/cuda_gpu_executor.cc:975] successful NUMA node read from SysFS had negative value (-1), but there must be at least one NUMA node, so returning NUMA node zero\n",
      "2022-09-19 09:46:00.873356: I tensorflow/stream_executor/cuda/cuda_gpu_executor.cc:975] successful NUMA node read from SysFS had negative value (-1), but there must be at least one NUMA node, so returning NUMA node zero\n",
      "2022-09-19 09:46:00.873504: I tensorflow/core/common_runtime/gpu/gpu_device.cc:1532] Created device /job:localhost/replica:0/task:0/device:GPU:0 with 4295 MB memory:  -> device: 0, name: NVIDIA GeForce RTX 2060, pci bus id: 0000:29:00.0, compute capability: 7.5\n"
     ]
    }
   ],
   "source": [
    "imp = Importation('database')\n",
    "df = imp.get_words().sample(frac=1, random_state=1).reset_index()\n",
    "# n_lettres_max=11\n",
    "# df = df[df.word_size<=n_lettres_max][['file', 'word_size', 'label']]\n",
    "df.word_size = df.word_size.astype('float32')\n",
    "print(\"Nombre d'enregistrements \", df.shape[0])\n",
    "\n",
    "\n",
    "df = df[['file', 'word_size', 'label']]\n",
    "df.info()\n",
    "image_width = 128\n",
    "image_height = 32\n",
    "batch_size = 64\n",
    "img_size = (image_width, image_height)\n",
    "prepro = Preprocess(img_size, batch_size=batch_size, gaussianBlur=True)\n",
    "\n",
    "df_train, df_valid, df_test = prepro.split_data(df, train_size=0.9)\n",
    "\n",
    "x_train, y_train = df_train[\"file\"].values, df_train[\"word_size\"].values\n",
    "x_test, y_test = df_test[\"file\"].values, df_test[\"word_size\"].values\n",
    "x_valid, y_valid = df_valid[\"file\"].values, df_valid[\"word_size\"].values\n",
    "\n",
    "train_ds = prepro.prepare_dataset_word_size(x_train, y_train)\n",
    "validation_ds = prepro.prepare_dataset_word_size(x_valid, y_valid)\n",
    "test_ds = prepro.prepare_dataset_word_size(x_test, y_test)\n",
    "\n"
   ]
  },
  {
   "cell_type": "markdown",
   "metadata": {},
   "source": [
    "# Chargement du modèle"
   ]
  },
  {
   "cell_type": "code",
   "execution_count": 3,
   "metadata": {
    "colab": {
     "base_uri": "https://localhost:8080/"
    },
    "executionInfo": {
     "elapsed": 255,
     "status": "ok",
     "timestamp": 1663509031853,
     "user": {
      "displayName": "Bolivorax Bolivorax",
      "userId": "09145586294376391882"
     },
     "user_tz": -120
    },
    "id": "q6CK6bdBi1aQ",
    "outputId": "5734c6f4-5b9c-4021-de95-5f62e7bf3cf4"
   },
   "outputs": [
    {
     "name": "stdout",
     "output_type": "stream",
     "text": [
      "Model: \"CNN_model\"\n",
      "_________________________________________________________________\n",
      " Layer (type)                Output Shape              Param #   \n",
      "=================================================================\n",
      " image (InputLayer)          [(None, 128, 32, 1)]      0         \n",
      "                                                                 \n",
      " conv2d (Conv2D)             (None, 124, 28, 32)       832       \n",
      "                                                                 \n",
      " max_pooling2d (MaxPooling2D  (None, 62, 14, 32)       0         \n",
      " )                                                               \n",
      "                                                                 \n",
      " dropout (Dropout)           (None, 62, 14, 32)        0         \n",
      "                                                                 \n",
      " flatten (Flatten)           (None, 27776)             0         \n",
      "                                                                 \n",
      " dense (Dense)               (None, 128)               3555456   \n",
      "                                                                 \n",
      " dense_1 (Dense)             (None, 1)                 129       \n",
      "                                                                 \n",
      "=================================================================\n",
      "Total params: 3,556,417\n",
      "Trainable params: 3,556,417\n",
      "Non-trainable params: 0\n",
      "_________________________________________________________________\n"
     ]
    }
   ],
   "source": [
    "#import importlib\n",
    "#import sys\n",
    "#importlib.reload(sys.modules['wsmodel']) \n",
    "\n",
    "\n",
    "train = True\n",
    "#model = wsmodel.create_model_lenet(image_width, image_height)\n",
    "model = wsmodel.create_model_cnn(image_width, image_height)\n",
    "#model = wsmodel.create_model_dense(image_width, image_height)\n",
    "if train:\n",
    "    opt = tf.keras.optimizers.Adam()\n",
    "    model.compile(optimizer=opt, loss='mean_squared_error',\n",
    "                  metrics=['mean_absolute_error'])\n",
    "model.summary()"
   ]
  },
  {
   "cell_type": "markdown",
   "metadata": {},
   "source": [
    "# Entraînement du modèle "
   ]
  },
  {
   "cell_type": "code",
   "execution_count": 4,
   "metadata": {
    "colab": {
     "base_uri": "https://localhost:8080/",
     "height": 415
    },
    "executionInfo": {
     "elapsed": 55378,
     "status": "error",
     "timestamp": 1663509105781,
     "user": {
      "displayName": "Bolivorax Bolivorax",
      "userId": "09145586294376391882"
     },
     "user_tz": -120
    },
    "id": "B2HNzPlNjO3Q",
    "outputId": "db8146b1-4dcc-40bc-b357-735c875d6133"
   },
   "outputs": [
    {
     "name": "stdout",
     "output_type": "stream",
     "text": [
      "Epoch 1/50\n"
     ]
    },
    {
     "name": "stderr",
     "output_type": "stream",
     "text": [
      "2022-09-19 09:46:14.315173: I tensorflow/stream_executor/cuda/cuda_dnn.cc:384] Loaded cuDNN version 8302\n"
     ]
    },
    {
     "name": "stdout",
     "output_type": "stream",
     "text": [
      "1357/1357 [==============================] - 286s 209ms/step - loss: 1.7772 - mean_absolute_error: 0.9430 - val_loss: 1.2532 - val_mean_absolute_error: 0.7484\n",
      "Epoch 2/50\n",
      "1357/1357 [==============================] - 7s 5ms/step - loss: 1.1313 - mean_absolute_error: 0.7448 - val_loss: 1.5849 - val_mean_absolute_error: 0.8561\n",
      "Epoch 3/50\n",
      "1357/1357 [==============================] - 7s 5ms/step - loss: 0.9947 - mean_absolute_error: 0.6954 - val_loss: 1.3275 - val_mean_absolute_error: 0.7766\n",
      "Epoch 4/50\n",
      "1357/1357 [==============================] - 7s 5ms/step - loss: 0.9154 - mean_absolute_error: 0.6677 - val_loss: 1.3269 - val_mean_absolute_error: 0.7757\n",
      "Epoch 5/50\n",
      "1357/1357 [==============================] - 7s 5ms/step - loss: 0.8830 - mean_absolute_error: 0.6552 - val_loss: 1.0281 - val_mean_absolute_error: 0.6843\n",
      "Epoch 6/50\n",
      "1357/1357 [==============================] - 7s 5ms/step - loss: 0.8215 - mean_absolute_error: 0.6331 - val_loss: 0.8393 - val_mean_absolute_error: 0.6250\n",
      "Epoch 7/50\n",
      "1357/1357 [==============================] - 7s 5ms/step - loss: 0.7821 - mean_absolute_error: 0.6186 - val_loss: 0.8031 - val_mean_absolute_error: 0.6333\n",
      "Epoch 8/50\n",
      "1357/1357 [==============================] - 7s 5ms/step - loss: 0.7430 - mean_absolute_error: 0.6038 - val_loss: 0.8124 - val_mean_absolute_error: 0.6152\n",
      "Epoch 9/50\n",
      "1357/1357 [==============================] - 7s 5ms/step - loss: 0.7102 - mean_absolute_error: 0.5929 - val_loss: 0.8070 - val_mean_absolute_error: 0.6373\n",
      "Epoch 10/50\n",
      "1357/1357 [==============================] - 7s 5ms/step - loss: 0.6780 - mean_absolute_error: 0.5796 - val_loss: 0.7425 - val_mean_absolute_error: 0.6067\n",
      "Epoch 11/50\n",
      "1357/1357 [==============================] - 7s 5ms/step - loss: 0.6433 - mean_absolute_error: 0.5651 - val_loss: 0.7749 - val_mean_absolute_error: 0.6143\n",
      "Epoch 12/50\n",
      "1357/1357 [==============================] - 7s 5ms/step - loss: 0.6411 - mean_absolute_error: 0.5628 - val_loss: 0.8432 - val_mean_absolute_error: 0.6452\n",
      "Epoch 13/50\n",
      "1357/1357 [==============================] - 7s 5ms/step - loss: 0.6158 - mean_absolute_error: 0.5527 - val_loss: 0.7622 - val_mean_absolute_error: 0.5990\n",
      "Epoch 14/50\n",
      "1357/1357 [==============================] - 7s 5ms/step - loss: 0.5886 - mean_absolute_error: 0.5418 - val_loss: 0.7643 - val_mean_absolute_error: 0.6204\n",
      "Epoch 15/50\n",
      "1357/1357 [==============================] - 7s 5ms/step - loss: 0.5957 - mean_absolute_error: 0.5459 - val_loss: 1.0050 - val_mean_absolute_error: 0.6633\n",
      "Epoch 16/50\n",
      "1357/1357 [==============================] - 7s 5ms/step - loss: 0.5610 - mean_absolute_error: 0.5307 - val_loss: 1.1185 - val_mean_absolute_error: 0.7050\n",
      "Epoch 17/50\n",
      "1357/1357 [==============================] - 7s 5ms/step - loss: 0.5403 - mean_absolute_error: 0.5207 - val_loss: 0.9402 - val_mean_absolute_error: 0.6414\n",
      "Epoch 18/50\n",
      "1357/1357 [==============================] - 7s 5ms/step - loss: 0.5231 - mean_absolute_error: 0.5144 - val_loss: 0.8105 - val_mean_absolute_error: 0.6088\n",
      "Epoch 19/50\n",
      "1357/1357 [==============================] - 7s 5ms/step - loss: 0.5060 - mean_absolute_error: 0.5075 - val_loss: 1.0238 - val_mean_absolute_error: 0.6748\n",
      "Epoch 20/50\n",
      "1357/1357 [==============================] - 7s 5ms/step - loss: 0.4832 - mean_absolute_error: 0.4968 - val_loss: 0.9009 - val_mean_absolute_error: 0.6375\n",
      "Epoch 21/50\n",
      "1357/1357 [==============================] - 7s 5ms/step - loss: 0.4902 - mean_absolute_error: 0.4983 - val_loss: 0.8776 - val_mean_absolute_error: 0.6291\n",
      "Epoch 22/50\n",
      "1357/1357 [==============================] - 7s 5ms/step - loss: 0.4820 - mean_absolute_error: 0.4946 - val_loss: 0.9177 - val_mean_absolute_error: 0.6513\n",
      "Epoch 23/50\n",
      "1357/1357 [==============================] - 7s 5ms/step - loss: 0.4657 - mean_absolute_error: 0.4872 - val_loss: 0.9292 - val_mean_absolute_error: 0.6477\n",
      "Epoch 24/50\n",
      "1357/1357 [==============================] - 7s 5ms/step - loss: 0.4378 - mean_absolute_error: 0.4741 - val_loss: 0.8415 - val_mean_absolute_error: 0.6188\n",
      "Epoch 25/50\n",
      "1357/1357 [==============================] - 7s 5ms/step - loss: 0.3966 - mean_absolute_error: 0.4528 - val_loss: 0.7835 - val_mean_absolute_error: 0.6080\n",
      "Epoch 26/50\n",
      "1357/1357 [==============================] - 7s 5ms/step - loss: 0.3897 - mean_absolute_error: 0.4503 - val_loss: 0.8774 - val_mean_absolute_error: 0.6322\n",
      "Epoch 27/50\n",
      "1357/1357 [==============================] - 7s 5ms/step - loss: 0.3946 - mean_absolute_error: 0.4513 - val_loss: 0.8173 - val_mean_absolute_error: 0.6151\n",
      "Epoch 28/50\n",
      "1357/1357 [==============================] - 7s 5ms/step - loss: 0.3885 - mean_absolute_error: 0.4492 - val_loss: 0.8779 - val_mean_absolute_error: 0.6354\n",
      "Epoch 29/50\n",
      "1357/1357 [==============================] - 7s 5ms/step - loss: 0.4286 - mean_absolute_error: 0.4694 - val_loss: 0.9495 - val_mean_absolute_error: 0.6869\n",
      "Epoch 30/50\n",
      "1357/1357 [==============================] - 7s 5ms/step - loss: 0.3812 - mean_absolute_error: 0.4455 - val_loss: 0.8869 - val_mean_absolute_error: 0.6488\n",
      "Epoch 31/50\n",
      "1357/1357 [==============================] - 7s 5ms/step - loss: 0.3637 - mean_absolute_error: 0.4364 - val_loss: 0.8858 - val_mean_absolute_error: 0.6458\n",
      "Epoch 32/50\n",
      "1357/1357 [==============================] - 7s 5ms/step - loss: 0.3479 - mean_absolute_error: 0.4271 - val_loss: 0.8630 - val_mean_absolute_error: 0.6316\n",
      "Epoch 33/50\n",
      "1357/1357 [==============================] - 7s 5ms/step - loss: 0.3561 - mean_absolute_error: 0.4324 - val_loss: 0.9627 - val_mean_absolute_error: 0.6788\n",
      "Epoch 34/50\n",
      "1357/1357 [==============================] - 7s 5ms/step - loss: 0.3718 - mean_absolute_error: 0.4397 - val_loss: 0.9543 - val_mean_absolute_error: 0.6516\n",
      "Epoch 35/50\n",
      "1357/1357 [==============================] - 7s 5ms/step - loss: 0.3567 - mean_absolute_error: 0.4318 - val_loss: 0.9249 - val_mean_absolute_error: 0.6401\n",
      "Epoch 36/50\n",
      "1357/1357 [==============================] - 7s 5ms/step - loss: 0.3555 - mean_absolute_error: 0.4311 - val_loss: 1.0210 - val_mean_absolute_error: 0.6650\n",
      "Epoch 37/50\n",
      "1357/1357 [==============================] - 7s 5ms/step - loss: 0.3165 - mean_absolute_error: 0.4089 - val_loss: 0.9545 - val_mean_absolute_error: 0.6504\n",
      "Epoch 38/50\n",
      "1357/1357 [==============================] - 7s 5ms/step - loss: 0.2900 - mean_absolute_error: 0.3927 - val_loss: 0.8474 - val_mean_absolute_error: 0.6177\n",
      "Epoch 39/50\n",
      "1357/1357 [==============================] - 7s 5ms/step - loss: 0.2794 - mean_absolute_error: 0.3866 - val_loss: 0.8996 - val_mean_absolute_error: 0.6337\n",
      "Epoch 40/50\n",
      "1357/1357 [==============================] - 7s 5ms/step - loss: 0.2747 - mean_absolute_error: 0.3828 - val_loss: 0.8481 - val_mean_absolute_error: 0.6248\n",
      "Epoch 41/50\n",
      "1357/1357 [==============================] - 7s 5ms/step - loss: 0.2711 - mean_absolute_error: 0.3804 - val_loss: 0.8709 - val_mean_absolute_error: 0.6284\n",
      "Epoch 42/50\n",
      "1357/1357 [==============================] - 7s 5ms/step - loss: 0.2952 - mean_absolute_error: 0.3951 - val_loss: 1.0378 - val_mean_absolute_error: 0.6700\n",
      "Epoch 43/50\n",
      "1357/1357 [==============================] - 7s 5ms/step - loss: 0.3096 - mean_absolute_error: 0.4042 - val_loss: 0.9160 - val_mean_absolute_error: 0.6381\n",
      "Epoch 44/50\n",
      "1357/1357 [==============================] - 7s 5ms/step - loss: 0.3005 - mean_absolute_error: 0.3989 - val_loss: 0.9048 - val_mean_absolute_error: 0.6361\n",
      "Epoch 45/50\n",
      "1357/1357 [==============================] - 7s 5ms/step - loss: 0.2808 - mean_absolute_error: 0.3868 - val_loss: 0.9211 - val_mean_absolute_error: 0.6365\n",
      "Epoch 46/50\n",
      "1357/1357 [==============================] - 7s 5ms/step - loss: 0.2678 - mean_absolute_error: 0.3778 - val_loss: 0.9167 - val_mean_absolute_error: 0.6434\n",
      "Epoch 47/50\n",
      "1357/1357 [==============================] - 7s 5ms/step - loss: 0.2675 - mean_absolute_error: 0.3783 - val_loss: 0.8769 - val_mean_absolute_error: 0.6270\n",
      "Epoch 48/50\n",
      "1357/1357 [==============================] - 7s 5ms/step - loss: 0.2578 - mean_absolute_error: 0.3717 - val_loss: 0.8706 - val_mean_absolute_error: 0.6283\n",
      "Epoch 49/50\n",
      "1357/1357 [==============================] - 7s 5ms/step - loss: 0.2531 - mean_absolute_error: 0.3683 - val_loss: 0.9597 - val_mean_absolute_error: 0.6497\n",
      "Epoch 50/50\n",
      "1357/1357 [==============================] - 7s 5ms/step - loss: 0.2579 - mean_absolute_error: 0.3714 - val_loss: 0.9613 - val_mean_absolute_error: 0.6547\n"
     ]
    },
    {
     "data": {
      "image/png": "[encoded data removed]",
      "text/plain": [
       "<Figure size 864x288 with 2 Axes>"
      ]
     },
     "metadata": {
      "needs_background": "light"
     },
     "output_type": "display_data"
    }
   ],
   "source": [
    "if train:\n",
    "    epochs = 50\n",
    "    training_history = model.fit(\n",
    "        train_ds,\n",
    "        validation_data=validation_ds,\n",
    "        epochs=epochs,\n",
    "        verbose=1\n",
    "    )\n",
    "\n",
    "    train_loss = training_history.history[\"loss\"]\n",
    "    val_loss = training_history.history[\"val_loss\"]\n",
    "    train_acc = training_history.history[\"mean_absolute_error\"]\n",
    "    val_acc = training_history.history[\"val_mean_absolute_error\"]\n",
    "    plt.figure(figsize=(12, 4))\n",
    "    plt.subplot(121)\n",
    "    plt.plot(train_loss)\n",
    "    plt.plot(val_loss)\n",
    "    plt.title('Model loss per epoch')\n",
    "    plt.ylabel('loss')\n",
    "    plt.xlabel('epoch')\n",
    "    plt.legend(['train', 'test'], loc='right')\n",
    "\n",
    "    plt.subplot(122)\n",
    "    plt.plot(train_acc)\n",
    "    plt.plot(val_acc)\n",
    "    plt.title('Model mae per epoch')\n",
    "    plt.ylabel('mae')\n",
    "    plt.xlabel('epoch')\n",
    "    plt.legend(['train', 'test'], loc='right')\n",
    "    model.save_weights(\"models/word_size_cnn.h1\")\n",
    "\n",
    "else: \n",
    "    model.load_weights(\"models/word_size_cnn.h1\")"
   ]
  },
  {
   "cell_type": "markdown",
   "metadata": {},
   "source": [
    "# Prédictions"
   ]
  },
  {
   "cell_type": "code",
   "execution_count": 5,
   "metadata": {
    "colab": {
     "base_uri": "https://localhost:8080/",
     "height": 685
    },
    "executionInfo": {
     "elapsed": 1059,
     "status": "ok",
     "timestamp": 1663508101452,
     "user": {
      "displayName": "Bolivorax Bolivorax",
      "userId": "09145586294376391882"
     },
     "user_tz": -120
    },
    "id": "MbVW23GaKh_w",
    "outputId": "e0ca4288-e818-4f13-a7c4-41d7fb4881f5"
   },
   "outputs": [
    {
     "data": {
      "image/png": "[encoded data removed]",
      "text/plain": [
       "<Figure size 720x216 with 1 Axes>"
      ]
     },
     "metadata": {},
     "output_type": "display_data"
    },
    {
     "name": "stdout",
     "output_type": "stream",
     "text": [
      "Label     : the\n",
      "Word size     : 3\n",
      "Prédiction:  2.62\n"
     ]
    },
    {
     "data": {
      "image/png": "[encoded data removed]",
      "text/plain": [
       "<Figure size 720x216 with 1 Axes>"
      ]
     },
     "metadata": {},
     "output_type": "display_data"
    },
    {
     "name": "stdout",
     "output_type": "stream",
     "text": [
      "Label     : had\n",
      "Word size     : 3\n",
      "Prédiction:  3.34\n"
     ]
    },
    {
     "data": {
      "image/png": "[encoded data removed]",
      "text/plain": [
       "<Figure size 720x216 with 1 Axes>"
      ]
     },
     "metadata": {},
     "output_type": "display_data"
    },
    {
     "name": "stdout",
     "output_type": "stream",
     "text": [
      "Label     : I\n",
      "Word size     : 1\n",
      "Prédiction:  0.68\n"
     ]
    }
   ],
   "source": [
    "\n",
    "\n",
    "# Création d'un dataset pour une image unique\n",
    "def get_ds(img_path, word_size):\n",
    "    x = np.array([img_path])\n",
    "    y = np.array([word_size])\n",
    "    ds = prepro.prepare_dataset_word_size(x, y)\n",
    "    return ds\n",
    "\n",
    "def get_prediction(ds):\n",
    "    errors = []\n",
    "    output_word_size = []\n",
    "    for batch in ds:\n",
    "        word_size = batch[1] \n",
    "        batch_images = batch[0]\n",
    "        #batch_images = tf.transpose(batch[0], [0,2,1,3])\n",
    "        preds = model.predict(batch_images, verbose=0)\n",
    "        output_word_size += [v[0] for v in preds.tolist()]\n",
    "    return output_word_size\n",
    "\n",
    "\n",
    "files = []\n",
    "labels = []\n",
    "predictions = []\n",
    "distances = []\n",
    "df_predict = df_test\n",
    "for i in np.random.choice(np.arange(0, len(df_predict)), size=3):  \n",
    "  label = df_predict.iloc[i].label\n",
    "  word_size = df_predict.iloc[i].word_size\n",
    "  img_path = df_predict.iloc[i].file\n",
    "  ds = get_ds(img_path, word_size)\n",
    "  prediction= get_prediction(ds)\n",
    "  prediction = np.round(prediction,2)[0]\n",
    "  image = cv2.imread(img_path)\n",
    "  plt.figure(figsize=(10,3))\n",
    "  plt.imshow(image, cmap='gray')\n",
    "  plt.xticks([])\n",
    "  plt.yticks([])\n",
    "  plt.show()\n",
    "  print(f\"Label     : {label}\")\n",
    "  print(f\"Word size     : {int(word_size)}\")\n",
    "  print(\"Prédiction: \",prediction)\n"
   ]
  },
  {
   "cell_type": "markdown",
   "metadata": {},
   "source": [
    "## Prédiction sur l'ensemble de test"
   ]
  },
  {
   "cell_type": "code",
   "execution_count": 6,
   "metadata": {},
   "outputs": [
    {
     "name": "stdout",
     "output_type": "stream",
     "text": [
      "Erreur Moyenne : 0.6640369064897367\n",
      "count    4823.000000\n",
      "mean        0.664037\n",
      "std         0.747833\n",
      "min         0.000000\n",
      "25%         0.150000\n",
      "50%         0.400000\n",
      "75%         0.920000\n",
      "max         8.380000\n",
      "Name: error, dtype: float64\n"
     ]
    },
    {
     "data": {
      "text/html": [
       "<div>\n",
       "<style scoped>\n",
       "    .dataframe tbody tr th:only-of-type {\n",
       "        vertical-align: middle;\n",
       "    }\n",
       "\n",
       "    .dataframe tbody tr th {\n",
       "        vertical-align: top;\n",
       "    }\n",
       "\n",
       "    .dataframe thead th {\n",
       "        text-align: right;\n",
       "    }\n",
       "</style>\n",
       "<table border=\"1\" class=\"dataframe\">\n",
       "  <thead>\n",
       "    <tr style=\"text-align: right;\">\n",
       "      <th></th>\n",
       "      <th>label</th>\n",
       "      <th>word_size</th>\n",
       "      <th>prediction</th>\n",
       "      <th>error</th>\n",
       "    </tr>\n",
       "  </thead>\n",
       "  <tbody>\n",
       "    <tr>\n",
       "      <th>91631</th>\n",
       "      <td>swift</td>\n",
       "      <td>5.0</td>\n",
       "      <td>5.163424</td>\n",
       "      <td>0.16</td>\n",
       "    </tr>\n",
       "    <tr>\n",
       "      <th>91632</th>\n",
       "      <td>Betti's</td>\n",
       "      <td>7.0</td>\n",
       "      <td>5.615003</td>\n",
       "      <td>1.38</td>\n",
       "    </tr>\n",
       "    <tr>\n",
       "      <th>91633</th>\n",
       "      <td>like</td>\n",
       "      <td>4.0</td>\n",
       "      <td>2.823175</td>\n",
       "      <td>1.18</td>\n",
       "    </tr>\n",
       "    <tr>\n",
       "      <th>91634</th>\n",
       "      <td>unceasing</td>\n",
       "      <td>9.0</td>\n",
       "      <td>8.329786</td>\n",
       "      <td>0.67</td>\n",
       "    </tr>\n",
       "    <tr>\n",
       "      <th>91635</th>\n",
       "      <td>Fell</td>\n",
       "      <td>4.0</td>\n",
       "      <td>4.892545</td>\n",
       "      <td>0.89</td>\n",
       "    </tr>\n",
       "    <tr>\n",
       "      <th>91636</th>\n",
       "      <td>Morfydd</td>\n",
       "      <td>7.0</td>\n",
       "      <td>6.486670</td>\n",
       "      <td>0.51</td>\n",
       "    </tr>\n",
       "    <tr>\n",
       "      <th>91637</th>\n",
       "      <td>in</td>\n",
       "      <td>2.0</td>\n",
       "      <td>2.142959</td>\n",
       "      <td>0.14</td>\n",
       "    </tr>\n",
       "    <tr>\n",
       "      <th>91638</th>\n",
       "      <td>unguarded</td>\n",
       "      <td>9.0</td>\n",
       "      <td>7.919446</td>\n",
       "      <td>1.08</td>\n",
       "    </tr>\n",
       "    <tr>\n",
       "      <th>91639</th>\n",
       "      <td>was</td>\n",
       "      <td>3.0</td>\n",
       "      <td>3.895290</td>\n",
       "      <td>0.90</td>\n",
       "    </tr>\n",
       "    <tr>\n",
       "      <th>91640</th>\n",
       "      <td>&amp;</td>\n",
       "      <td>1.0</td>\n",
       "      <td>1.906641</td>\n",
       "      <td>0.91</td>\n",
       "    </tr>\n",
       "    <tr>\n",
       "      <th>91641</th>\n",
       "      <td>the</td>\n",
       "      <td>3.0</td>\n",
       "      <td>3.952240</td>\n",
       "      <td>0.95</td>\n",
       "    </tr>\n",
       "    <tr>\n",
       "      <th>91642</th>\n",
       "      <td>under</td>\n",
       "      <td>5.0</td>\n",
       "      <td>5.006331</td>\n",
       "      <td>0.01</td>\n",
       "    </tr>\n",
       "    <tr>\n",
       "      <th>91643</th>\n",
       "      <td>each</td>\n",
       "      <td>4.0</td>\n",
       "      <td>3.446843</td>\n",
       "      <td>0.55</td>\n",
       "    </tr>\n",
       "    <tr>\n",
       "      <th>91644</th>\n",
       "      <td>a</td>\n",
       "      <td>1.0</td>\n",
       "      <td>1.127455</td>\n",
       "      <td>0.13</td>\n",
       "    </tr>\n",
       "    <tr>\n",
       "      <th>91645</th>\n",
       "      <td>damaging</td>\n",
       "      <td>8.0</td>\n",
       "      <td>9.082255</td>\n",
       "      <td>1.08</td>\n",
       "    </tr>\n",
       "    <tr>\n",
       "      <th>91646</th>\n",
       "      <td>went</td>\n",
       "      <td>4.0</td>\n",
       "      <td>4.432054</td>\n",
       "      <td>0.43</td>\n",
       "    </tr>\n",
       "    <tr>\n",
       "      <th>91647</th>\n",
       "      <td>.</td>\n",
       "      <td>1.0</td>\n",
       "      <td>1.087193</td>\n",
       "      <td>0.09</td>\n",
       "    </tr>\n",
       "    <tr>\n",
       "      <th>91648</th>\n",
       "      <td>a</td>\n",
       "      <td>1.0</td>\n",
       "      <td>1.116465</td>\n",
       "      <td>0.12</td>\n",
       "    </tr>\n",
       "    <tr>\n",
       "      <th>91649</th>\n",
       "      <td>I</td>\n",
       "      <td>1.0</td>\n",
       "      <td>1.040163</td>\n",
       "      <td>0.04</td>\n",
       "    </tr>\n",
       "    <tr>\n",
       "      <th>91650</th>\n",
       "      <td>a</td>\n",
       "      <td>1.0</td>\n",
       "      <td>1.082692</td>\n",
       "      <td>0.08</td>\n",
       "    </tr>\n",
       "  </tbody>\n",
       "</table>\n",
       "</div>"
      ],
      "text/plain": [
       "           label  word_size  prediction  error\n",
       "91631      swift        5.0    5.163424   0.16\n",
       "91632    Betti's        7.0    5.615003   1.38\n",
       "91633       like        4.0    2.823175   1.18\n",
       "91634  unceasing        9.0    8.329786   0.67\n",
       "91635       Fell        4.0    4.892545   0.89\n",
       "91636    Morfydd        7.0    6.486670   0.51\n",
       "91637         in        2.0    2.142959   0.14\n",
       "91638  unguarded        9.0    7.919446   1.08\n",
       "91639        was        3.0    3.895290   0.90\n",
       "91640          &        1.0    1.906641   0.91\n",
       "91641        the        3.0    3.952240   0.95\n",
       "91642      under        5.0    5.006331   0.01\n",
       "91643       each        4.0    3.446843   0.55\n",
       "91644          a        1.0    1.127455   0.13\n",
       "91645   damaging        8.0    9.082255   1.08\n",
       "91646       went        4.0    4.432054   0.43\n",
       "91647          .        1.0    1.087193   0.09\n",
       "91648          a        1.0    1.116465   0.12\n",
       "91649          I        1.0    1.040163   0.04\n",
       "91650          a        1.0    1.082692   0.08"
      ]
     },
     "execution_count": 6,
     "metadata": {},
     "output_type": "execute_result"
    }
   ],
   "source": [
    "ds = test_ds\n",
    "output = get_prediction(ds)\n",
    "\n",
    "        \n",
    "df_result = pd.DataFrame({'file' : df_test.file,\n",
    "                          'label': df_test.label,\n",
    "                          'word_size' : df_test.word_size,\n",
    "                          'prediction' : output,\n",
    "                         })\n",
    "\n",
    "df_result['error'] = np.round(np.abs((df_result['word_size'] -  df_result['prediction'])),2)\n",
    "\n",
    "print(f\"Erreur Moyenne : {df_result.error.mean()}\")\n",
    "print(df_result.error.describe())\n",
    "df_result.drop(\"file\", axis=1).head(20)"
   ]
  },
  {
   "cell_type": "code",
   "execution_count": null,
   "metadata": {},
   "outputs": [],
   "source": []
  }
 ],
 "metadata": {
  "accelerator": "GPU",
  "colab": {
   "authorship_tag": "ABX9TyNPxsC9rv0gF8I8OzEthTXH",
   "provenance": []
  },
  "kernelspec": {
   "display_name": "Python 3 (ipykernel)",
   "language": "python",
   "name": "python3"
  },
  "language_info": {
   "codemirror_mode": {
    "name": "ipython",
    "version": 3
   },
   "file_extension": ".py",
   "mimetype": "text/x-python",
   "name": "python",
   "nbconvert_exporter": "python",
   "pygments_lexer": "ipython3",
   "version": "3.8.13"
  }
 },
 "nbformat": 4,
 "nbformat_minor": 1
}
